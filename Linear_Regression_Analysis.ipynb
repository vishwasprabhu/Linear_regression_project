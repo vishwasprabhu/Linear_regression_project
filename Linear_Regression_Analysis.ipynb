{
 "cells": [
  {
   "cell_type": "code",
   "execution_count": 47,
   "id": "5c4e6167",
   "metadata": {},
   "outputs": [],
   "source": [
    "import matplotlib.pyplot as plt \n",
    "import pandas as pd\n",
    "import numpy as np\n",
    "import statsmodels.api as sm\n",
    "import statsmodels.formula.api as smf\n",
    "import seaborn as sns\n",
    "import itertools\n",
    "import pylab"
   ]
  },
  {
   "cell_type": "markdown",
   "id": "d88f9b88",
   "metadata": {},
   "source": [
    "# 1.Data cleaning"
   ]
  },
  {
   "cell_type": "code",
   "execution_count": 7,
   "id": "2d9f5f4c",
   "metadata": {},
   "outputs": [],
   "source": [
    "carsdata=pd.read_csv('cars.csv')"
   ]
  },
  {
   "cell_type": "code",
   "execution_count": 8,
   "id": "21125b4d",
   "metadata": {},
   "outputs": [
    {
     "name": "stdout",
     "output_type": "stream",
     "text": [
      "<class 'pandas.core.frame.DataFrame'>\n",
      "RangeIndex: 8128 entries, 0 to 8127\n",
      "Data columns (total 13 columns):\n",
      " #   Column         Non-Null Count  Dtype  \n",
      "---  ------         --------------  -----  \n",
      " 0   name           8128 non-null   object \n",
      " 1   year           8128 non-null   int64  \n",
      " 2   selling_price  8128 non-null   int64  \n",
      " 3   km_driven      8128 non-null   int64  \n",
      " 4   fuel           8128 non-null   object \n",
      " 5   seller_type    8128 non-null   object \n",
      " 6   transmission   8128 non-null   object \n",
      " 7   owner          8128 non-null   object \n",
      " 8   mileage        7907 non-null   object \n",
      " 9   engine         7907 non-null   object \n",
      " 10  max_power      7913 non-null   object \n",
      " 11  torque         7906 non-null   object \n",
      " 12  seats          7907 non-null   float64\n",
      "dtypes: float64(1), int64(3), object(9)\n",
      "memory usage: 825.6+ KB\n"
     ]
    }
   ],
   "source": [
    "carsdata.info()"
   ]
  },
  {
   "cell_type": "code",
   "execution_count": 9,
   "id": "cc8a55a2",
   "metadata": {},
   "outputs": [],
   "source": [
    "#target variable\n",
    "carsdata['selling_price'] = carsdata['selling_price'] / 1000  #change $ to 1k$"
   ]
  },
  {
   "cell_type": "code",
   "execution_count": 10,
   "id": "ae532435",
   "metadata": {},
   "outputs": [],
   "source": [
    "carsdata['age'] = 2020 - carsdata['year'] #Base year = 2020"
   ]
  },
  {
   "cell_type": "code",
   "execution_count": 11,
   "id": "2e3463dc",
   "metadata": {},
   "outputs": [
    {
     "data": {
      "text/plain": [
       "0       145500\n",
       "1       120000\n",
       "2       140000\n",
       "3       127000\n",
       "4       120000\n",
       "         ...  \n",
       "8123    110000\n",
       "8124    119000\n",
       "8125    120000\n",
       "8126     25000\n",
       "8127     25000\n",
       "Name: km_driven, Length: 8128, dtype: int64"
      ]
     },
     "execution_count": 11,
     "metadata": {},
     "output_type": "execute_result"
    }
   ],
   "source": [
    "carsdata['km_driven'] #looks good"
   ]
  },
  {
   "cell_type": "code",
   "execution_count": 12,
   "id": "a9847a79",
   "metadata": {},
   "outputs": [
    {
     "data": {
      "text/plain": [
       "Diesel    4402\n",
       "Petrol    3631\n",
       "CNG         57\n",
       "LPG         38\n",
       "Name: fuel, dtype: int64"
      ]
     },
     "execution_count": 12,
     "metadata": {},
     "output_type": "execute_result"
    }
   ],
   "source": [
    "carsdata['fuel'].value_counts()"
   ]
  },
  {
   "cell_type": "code",
   "execution_count": 13,
   "id": "309dd892",
   "metadata": {},
   "outputs": [
    {
     "data": {
      "text/plain": [
       "Diesel    4402\n",
       "Petrol    3631\n",
       "Name: fuel, dtype: int64"
      ]
     },
     "execution_count": 13,
     "metadata": {},
     "output_type": "execute_result"
    }
   ],
   "source": [
    "carsdata.drop(carsdata[carsdata['fuel'] == 'CNG'].index, axis= 0, inplace=True)\n",
    "carsdata.drop(carsdata[carsdata['fuel'] == 'LPG'].index, axis= 0, inplace=True)\n",
    "carsdata['fuel'].value_counts()"
   ]
  },
  {
   "cell_type": "code",
   "execution_count": 14,
   "id": "ad624558",
   "metadata": {},
   "outputs": [
    {
     "data": {
      "text/plain": [
       "Manual       6983\n",
       "Automatic    1050\n",
       "Name: transmission, dtype: int64"
      ]
     },
     "execution_count": 14,
     "metadata": {},
     "output_type": "execute_result"
    }
   ],
   "source": [
    "carsdata['transmission'].value_counts()  #looks good"
   ]
  },
  {
   "cell_type": "code",
   "execution_count": 15,
   "id": "1b6656af",
   "metadata": {},
   "outputs": [
    {
     "data": {
      "text/plain": [
       "First Owner             5238\n",
       "Second Owner            2073\n",
       "Third Owner              547\n",
       "Fourth & Above Owner     170\n",
       "Test Drive Car             5\n",
       "Name: owner, dtype: int64"
      ]
     },
     "execution_count": 15,
     "metadata": {},
     "output_type": "execute_result"
    }
   ],
   "source": [
    "carsdata['owner'].value_counts()  "
   ]
  },
  {
   "cell_type": "code",
   "execution_count": 16,
   "id": "a18da949",
   "metadata": {},
   "outputs": [
    {
     "data": {
      "text/plain": [
       "First Owner            5238\n",
       "Second Owner           2073\n",
       "Third & Above Owner     717\n",
       "Name: owner, dtype: int64"
      ]
     },
     "execution_count": 16,
     "metadata": {},
     "output_type": "execute_result"
    }
   ],
   "source": [
    "carsdata.drop(carsdata[carsdata['owner'] == 'Test Drive Car'].index, axis= 0, inplace=True)\n",
    "carsdata['owner'] = carsdata['owner'].replace(['Third Owner', 'Fourth & Above Owner'], 'Third & Above Owner')\n",
    "carsdata['owner'].value_counts() "
   ]
  },
  {
   "cell_type": "code",
   "execution_count": 17,
   "id": "ab11cbe0",
   "metadata": {
    "scrolled": true
   },
   "outputs": [
    {
     "data": {
      "text/plain": [
       "18.9 kmpl     225\n",
       "19.7 kmpl     173\n",
       "18.6 kmpl     164\n",
       "21.1 kmpl     157\n",
       "17.0 kmpl     133\n",
       "             ... \n",
       "16.38 kmpl      1\n",
       "17.42 kmpl      1\n",
       "18.24 kmpl      1\n",
       "10.71 kmpl      1\n",
       "16.51 kmpl      1\n",
       "Name: mileage, Length: 366, dtype: int64"
      ]
     },
     "execution_count": 17,
     "metadata": {},
     "output_type": "execute_result"
    }
   ],
   "source": [
    "carsdata['mileage'].value_counts()"
   ]
  },
  {
   "cell_type": "code",
   "execution_count": 22,
   "id": "b5fbf1d0",
   "metadata": {},
   "outputs": [
    {
     "data": {
      "text/plain": [
       "0        23.4\n",
       "1       21.14\n",
       "2        17.7\n",
       "3        23.0\n",
       "4        16.1\n",
       "        ...  \n",
       "8123     18.5\n",
       "8124     16.8\n",
       "8125     19.3\n",
       "8126    23.57\n",
       "8127    23.57\n",
       "Name: 0, Length: 8028, dtype: object"
      ]
     },
     "execution_count": 22,
     "metadata": {},
     "output_type": "execute_result"
    }
   ],
   "source": [
    "carsdata['mileage'].str.split(\" \", expand = True)[0]"
   ]
  },
  {
   "cell_type": "code",
   "execution_count": 23,
   "id": "cbeb74c9",
   "metadata": {},
   "outputs": [
    {
     "data": {
      "text/plain": [
       "0        23.4 kmpl\n",
       "1       21.14 kmpl\n",
       "2        17.7 kmpl\n",
       "3        23.0 kmpl\n",
       "4        16.1 kmpl\n",
       "           ...    \n",
       "8123     18.5 kmpl\n",
       "8124     16.8 kmpl\n",
       "8125     19.3 kmpl\n",
       "8126    23.57 kmpl\n",
       "8127    23.57 kmpl\n",
       "Name: mileage, Length: 8028, dtype: object"
      ]
     },
     "execution_count": 23,
     "metadata": {},
     "output_type": "execute_result"
    }
   ],
   "source": [
    "carsdata['mileage']"
   ]
  },
  {
   "cell_type": "code",
   "execution_count": 30,
   "id": "7c316b49",
   "metadata": {},
   "outputs": [
    {
     "data": {
      "text/plain": [
       "count    7814.000000\n",
       "mean       19.391962\n",
       "std         4.001972\n",
       "min         0.000000\n",
       "25%        16.780000\n",
       "50%        19.300000\n",
       "75%        22.320000\n",
       "max        42.000000\n",
       "Name: mileage, dtype: float64"
      ]
     },
     "execution_count": 30,
     "metadata": {},
     "output_type": "execute_result"
    }
   ],
   "source": [
    "carsdata['mileage'] = carsdata['mileage'].str.split(\" \", expand = True)[0]\n",
    "carsdata['mileage']=pd.to_numeric(carsdata['mileage'])\n",
    "carsdata['mileage'].describe()"
   ]
  },
  {
   "cell_type": "code",
   "execution_count": 32,
   "id": "6be2745e",
   "metadata": {},
   "outputs": [
    {
     "data": {
      "text/plain": [
       "count    7814.000000\n",
       "mean     1462.914640\n",
       "std       504.759742\n",
       "min       624.000000\n",
       "25%      1197.000000\n",
       "50%      1248.000000\n",
       "75%      1582.000000\n",
       "max      3604.000000\n",
       "Name: engine, dtype: float64"
      ]
     },
     "execution_count": 32,
     "metadata": {},
     "output_type": "execute_result"
    }
   ],
   "source": [
    "carsdata['engine'] = carsdata['engine'].str.split(\" \", expand = True)[0]\n",
    "carsdata['engine']=pd.to_numeric(carsdata['engine'])\n",
    "carsdata['engine'].describe()"
   ]
  },
  {
   "cell_type": "code",
   "execution_count": 33,
   "id": "8f7f54a8",
   "metadata": {},
   "outputs": [],
   "source": [
    "cars = carsdata[['selling_price', 'age', 'km_driven', 'mileage', 'engine', 'fuel', 'transmission', 'owner']].copy()"
   ]
  },
  {
   "cell_type": "code",
   "execution_count": 34,
   "id": "9a77056b",
   "metadata": {},
   "outputs": [
    {
     "data": {
      "text/plain": [
       "selling_price      0\n",
       "age                0\n",
       "km_driven          0\n",
       "mileage          214\n",
       "engine           214\n",
       "fuel               0\n",
       "transmission       0\n",
       "owner              0\n",
       "dtype: int64"
      ]
     },
     "execution_count": 34,
     "metadata": {},
     "output_type": "execute_result"
    }
   ],
   "source": [
    "cars.isnull().sum()"
   ]
  },
  {
   "cell_type": "code",
   "execution_count": 35,
   "id": "319d5c09",
   "metadata": {},
   "outputs": [
    {
     "name": "stdout",
     "output_type": "stream",
     "text": [
      "<class 'pandas.core.frame.DataFrame'>\n",
      "Int64Index: 7814 entries, 0 to 8127\n",
      "Data columns (total 8 columns):\n",
      " #   Column         Non-Null Count  Dtype  \n",
      "---  ------         --------------  -----  \n",
      " 0   selling_price  7814 non-null   float64\n",
      " 1   age            7814 non-null   int64  \n",
      " 2   km_driven      7814 non-null   int64  \n",
      " 3   mileage        7814 non-null   float64\n",
      " 4   engine         7814 non-null   float64\n",
      " 5   fuel           7814 non-null   object \n",
      " 6   transmission   7814 non-null   object \n",
      " 7   owner          7814 non-null   object \n",
      "dtypes: float64(3), int64(2), object(3)\n",
      "memory usage: 549.4+ KB\n"
     ]
    },
    {
     "data": {
      "text/plain": [
       "selling_price    0\n",
       "age              0\n",
       "km_driven        0\n",
       "mileage          0\n",
       "engine           0\n",
       "fuel             0\n",
       "transmission     0\n",
       "owner            0\n",
       "dtype: int64"
      ]
     },
     "execution_count": 35,
     "metadata": {},
     "output_type": "execute_result"
    }
   ],
   "source": [
    "cars =cars.dropna()\n",
    "cars.info()\n",
    "cars.isnull().sum()"
   ]
  },
  {
   "cell_type": "code",
   "execution_count": 36,
   "id": "3d261e0f",
   "metadata": {},
   "outputs": [
    {
     "name": "stdout",
     "output_type": "stream",
     "text": [
      "<class 'pandas.core.frame.DataFrame'>\n",
      "Int64Index: 7814 entries, 0 to 8127\n",
      "Data columns (total 8 columns):\n",
      " #   Column         Non-Null Count  Dtype  \n",
      "---  ------         --------------  -----  \n",
      " 0   selling_price  7814 non-null   float64\n",
      " 1   age            7814 non-null   int64  \n",
      " 2   km_driven      7814 non-null   int64  \n",
      " 3   mileage        7814 non-null   float64\n",
      " 4   engine         7814 non-null   float64\n",
      " 5   fuel           7814 non-null   object \n",
      " 6   transmission   7814 non-null   object \n",
      " 7   owner          7814 non-null   object \n",
      "dtypes: float64(3), int64(2), object(3)\n",
      "memory usage: 549.4+ KB\n"
     ]
    }
   ],
   "source": [
    "\n",
    "cars.info()"
   ]
  },
  {
   "cell_type": "markdown",
   "id": "c2affc03",
   "metadata": {},
   "source": [
    "cars.to_csv('cars.csv', index = False)"
   ]
  },
  {
   "cell_type": "markdown",
   "id": "8358e324",
   "metadata": {},
   "source": [
    "# 2. Test for multicollinearity"
   ]
  },
  {
   "cell_type": "code",
   "execution_count": 37,
   "id": "1d91dd62",
   "metadata": {},
   "outputs": [
    {
     "data": {
      "text/plain": [
       "<AxesSubplot:>"
      ]
     },
     "execution_count": 37,
     "metadata": {},
     "output_type": "execute_result"
    },
    {
     "data": {
      "image/png": "[encoded data removed]",
      "text/plain": [
       "<Figure size 1152x360 with 2 Axes>"
      ]
     },
     "metadata": {
      "needs_background": "light"
     },
     "output_type": "display_data"
    }
   ],
   "source": [
    "correlation_matrix = cars.corr().round(2)\n",
    "plt.figure(figsize = (16,5))\n",
    "sns.heatmap(data=correlation_matrix, annot=True)"
   ]
  },
  {
   "cell_type": "code",
   "execution_count": 38,
   "id": "c1fd7853",
   "metadata": {},
   "outputs": [
    {
     "name": "stdout",
     "output_type": "stream",
     "text": [
      "   VIF Factor                         features\n",
      "0  204.827539                        Intercept\n",
      "1    2.041134                C(fuel)[T.Petrol]\n",
      "2    1.248729        C(transmission)[T.Manual]\n",
      "3    1.260143         C(owner)[T.Second Owner]\n",
      "4    1.271157  C(owner)[T.Third & Above Owner]\n",
      "5    1.888147                              age\n",
      "6    1.419133                        km_driven\n",
      "7    2.600718                          mileage\n",
      "8    3.293355                           engine\n"
     ]
    }
   ],
   "source": [
    "# VIF\n",
    "from statsmodels.stats.outliers_influence import variance_inflation_factor\n",
    "from patsy import dmatrices\n",
    "y, X = dmatrices('selling_price ~ age + km_driven + mileage + engine + C(fuel) + C(transmission) + C(owner)', data=cars, return_type='dataframe')\n",
    "\n",
    "vif = pd.DataFrame()\n",
    "vif[\"VIF Factor\"] = [variance_inflation_factor(X.values, i) for i in range(X.shape[1])]\n",
    "vif[\"features\"] = X.columns\n",
    "print(vif)"
   ]
  },
  {
   "cell_type": "markdown",
   "id": "cbd700cd",
   "metadata": {},
   "source": [
    "# 4. Test for normality of residuals"
   ]
  },
  {
   "cell_type": "code",
   "execution_count": 39,
   "id": "04a21055",
   "metadata": {},
   "outputs": [
    {
     "data": {
      "text/html": [
       "<table class=\"simpletable\">\n",
       "<caption>OLS Regression Results</caption>\n",
       "<tr>\n",
       "  <th>Dep. Variable:</th>      <td>selling_price</td>  <th>  R-squared:         </th> <td>   0.540</td> \n",
       "</tr>\n",
       "<tr>\n",
       "  <th>Model:</th>                   <td>OLS</td>       <th>  Adj. R-squared:    </th> <td>   0.540</td> \n",
       "</tr>\n",
       "<tr>\n",
       "  <th>Method:</th>             <td>Least Squares</td>  <th>  F-statistic:       </th> <td>   1146.</td> \n",
       "</tr>\n",
       "<tr>\n",
       "  <th>Date:</th>             <td>Tue, 19 Oct 2021</td> <th>  Prob (F-statistic):</th>  <td>  0.00</td>  \n",
       "</tr>\n",
       "<tr>\n",
       "  <th>Time:</th>                 <td>23:56:06</td>     <th>  Log-Likelihood:    </th> <td> -60381.</td> \n",
       "</tr>\n",
       "<tr>\n",
       "  <th>No. Observations:</th>      <td>  7814</td>      <th>  AIC:               </th> <td>1.208e+05</td>\n",
       "</tr>\n",
       "<tr>\n",
       "  <th>Df Residuals:</th>          <td>  7805</td>      <th>  BIC:               </th> <td>1.208e+05</td>\n",
       "</tr>\n",
       "<tr>\n",
       "  <th>Df Model:</th>              <td>     8</td>      <th>                     </th>     <td> </td>    \n",
       "</tr>\n",
       "<tr>\n",
       "  <th>Covariance Type:</th>      <td>nonrobust</td>    <th>                     </th>     <td> </td>    \n",
       "</tr>\n",
       "</table>\n",
       "<table class=\"simpletable\">\n",
       "<tr>\n",
       "                 <td></td>                    <th>coef</th>     <th>std err</th>      <th>t</th>      <th>P>|t|</th>  <th>[0.025</th>    <th>0.975]</th>  \n",
       "</tr>\n",
       "<tr>\n",
       "  <th>Intercept</th>                       <td>  809.2082</td> <td>   88.956</td> <td>    9.097</td> <td> 0.000</td> <td>  634.831</td> <td>  983.585</td>\n",
       "</tr>\n",
       "<tr>\n",
       "  <th>C(fuel)[T.Petrol]</th>               <td>  -82.8002</td> <td>   17.850</td> <td>   -4.639</td> <td> 0.000</td> <td> -117.790</td> <td>  -47.810</td>\n",
       "</tr>\n",
       "<tr>\n",
       "  <th>C(transmission)[T.Manual]</th>       <td> -988.9110</td> <td>   20.473</td> <td>  -48.303</td> <td> 0.000</td> <td>-1029.043</td> <td> -948.779</td>\n",
       "</tr>\n",
       "<tr>\n",
       "  <th>C(owner)[T.Second Owner]</th>        <td>  -75.3567</td> <td>   16.020</td> <td>   -4.704</td> <td> 0.000</td> <td> -106.761</td> <td>  -43.953</td>\n",
       "</tr>\n",
       "<tr>\n",
       "  <th>C(owner)[T.Third & Above Owner]</th> <td>  -18.0610</td> <td>   25.183</td> <td>   -0.717</td> <td> 0.473</td> <td>  -67.427</td> <td>   31.304</td>\n",
       "</tr>\n",
       "<tr>\n",
       "  <th>age</th>                             <td>  -44.9575</td> <td>    2.210</td> <td>  -20.340</td> <td> 0.000</td> <td>  -49.290</td> <td>  -40.625</td>\n",
       "</tr>\n",
       "<tr>\n",
       "  <th>km_driven</th>                       <td>   -0.0017</td> <td>    0.000</td> <td>  -12.870</td> <td> 0.000</td> <td>   -0.002</td> <td>   -0.001</td>\n",
       "</tr>\n",
       "<tr>\n",
       "  <th>mileage</th>                         <td>   13.5979</td> <td>    2.505</td> <td>    5.429</td> <td> 0.000</td> <td>    8.688</td> <td>   18.508</td>\n",
       "</tr>\n",
       "<tr>\n",
       "  <th>engine</th>                          <td>    0.6019</td> <td>    0.022</td> <td>   26.933</td> <td> 0.000</td> <td>    0.558</td> <td>    0.646</td>\n",
       "</tr>\n",
       "</table>\n",
       "<table class=\"simpletable\">\n",
       "<tr>\n",
       "  <th>Omnibus:</th>       <td>5485.721</td> <th>  Durbin-Watson:     </th>  <td>   1.576</td> \n",
       "</tr>\n",
       "<tr>\n",
       "  <th>Prob(Omnibus):</th>  <td> 0.000</td>  <th>  Jarque-Bera (JB):  </th> <td>143728.427</td>\n",
       "</tr>\n",
       "<tr>\n",
       "  <th>Skew:</th>           <td> 3.035</td>  <th>  Prob(JB):          </th>  <td>    0.00</td> \n",
       "</tr>\n",
       "<tr>\n",
       "  <th>Kurtosis:</th>       <td>23.115</td>  <th>  Cond. No.          </th>  <td>1.30e+06</td> \n",
       "</tr>\n",
       "</table><br/><br/>Notes:<br/>[1] Standard Errors assume that the covariance matrix of the errors is correctly specified.<br/>[2] The condition number is large, 1.3e+06. This might indicate that there are<br/>strong multicollinearity or other numerical problems."
      ],
      "text/plain": [
       "<class 'statsmodels.iolib.summary.Summary'>\n",
       "\"\"\"\n",
       "                            OLS Regression Results                            \n",
       "==============================================================================\n",
       "Dep. Variable:          selling_price   R-squared:                       0.540\n",
       "Model:                            OLS   Adj. R-squared:                  0.540\n",
       "Method:                 Least Squares   F-statistic:                     1146.\n",
       "Date:                Tue, 19 Oct 2021   Prob (F-statistic):               0.00\n",
       "Time:                        23:56:06   Log-Likelihood:                -60381.\n",
       "No. Observations:                7814   AIC:                         1.208e+05\n",
       "Df Residuals:                    7805   BIC:                         1.208e+05\n",
       "Df Model:                           8                                         \n",
       "Covariance Type:            nonrobust                                         \n",
       "===================================================================================================\n",
       "                                      coef    std err          t      P>|t|      [0.025      0.975]\n",
       "---------------------------------------------------------------------------------------------------\n",
       "Intercept                         809.2082     88.956      9.097      0.000     634.831     983.585\n",
       "C(fuel)[T.Petrol]                 -82.8002     17.850     -4.639      0.000    -117.790     -47.810\n",
       "C(transmission)[T.Manual]        -988.9110     20.473    -48.303      0.000   -1029.043    -948.779\n",
       "C(owner)[T.Second Owner]          -75.3567     16.020     -4.704      0.000    -106.761     -43.953\n",
       "C(owner)[T.Third & Above Owner]   -18.0610     25.183     -0.717      0.473     -67.427      31.304\n",
       "age                               -44.9575      2.210    -20.340      0.000     -49.290     -40.625\n",
       "km_driven                          -0.0017      0.000    -12.870      0.000      -0.002      -0.001\n",
       "mileage                            13.5979      2.505      5.429      0.000       8.688      18.508\n",
       "engine                              0.6019      0.022     26.933      0.000       0.558       0.646\n",
       "==============================================================================\n",
       "Omnibus:                     5485.721   Durbin-Watson:                   1.576\n",
       "Prob(Omnibus):                  0.000   Jarque-Bera (JB):           143728.427\n",
       "Skew:                           3.035   Prob(JB):                         0.00\n",
       "Kurtosis:                      23.115   Cond. No.                     1.30e+06\n",
       "==============================================================================\n",
       "\n",
       "Notes:\n",
       "[1] Standard Errors assume that the covariance matrix of the errors is correctly specified.\n",
       "[2] The condition number is large, 1.3e+06. This might indicate that there are\n",
       "strong multicollinearity or other numerical problems.\n",
       "\"\"\""
      ]
     },
     "execution_count": 39,
     "metadata": {},
     "output_type": "execute_result"
    }
   ],
   "source": [
    "model =smf.ols('selling_price ~ age + km_driven + mileage + engine + C(fuel) + C(transmission) + C(owner)',data=cars).fit()\n",
    "model.summary()"
   ]
  },
  {
   "cell_type": "code",
   "execution_count": 40,
   "id": "6fcc2087",
   "metadata": {},
   "outputs": [
    {
     "data": {
      "text/plain": [
       "Text(0.5, 1.0, 'Fitted Values vs. Residuals')"
      ]
     },
     "execution_count": 40,
     "metadata": {},
     "output_type": "execute_result"
    },
    {
     "data": {
      "image/png": "[encoded data removed]",
      "text/plain": [
       "<Figure size 432x288 with 1 Axes>"
      ]
     },
     "metadata": {
      "needs_background": "light"
     },
     "output_type": "display_data"
    }
   ],
   "source": [
    "#Fitted Values vs. Residuals Plot\n",
    "fitted = model.fittedvalues\n",
    "res = model.resid\n",
    "plt.scatter(fitted,res)\n",
    "plt.xlabel(\"Fitted Values\")\n",
    "plt.ylabel(\"Residual\")\n",
    "plt.title(\"Fitted Values vs. Residuals\")"
   ]
  },
  {
   "cell_type": "code",
   "execution_count": 41,
   "id": "c137a3e7",
   "metadata": {},
   "outputs": [
    {
     "data": {
      "text/plain": [
       "(array([5.090e+02, 5.901e+03, 1.185e+03, 9.800e+01, 4.100e+01, 7.700e+01,\n",
       "        2.000e+00, 0.000e+00, 0.000e+00, 1.000e+00]),\n",
       " array([-1697.65942535,  -757.64571343,   182.3679985 ,  1122.38171042,\n",
       "         2062.39542234,  3002.40913427,  3942.42284619,  4882.43655812,\n",
       "         5822.45027004,  6762.46398197,  7702.47769389]),\n",
       " <BarContainer object of 10 artists>)"
      ]
     },
     "execution_count": 41,
     "metadata": {},
     "output_type": "execute_result"
    },
    {
     "data": {
      "image/png": "[encoded data removed]",
      "text/plain": [
       "<Figure size 432x288 with 1 Axes>"
      ]
     },
     "metadata": {
      "needs_background": "light"
     },
     "output_type": "display_data"
    }
   ],
   "source": [
    "plt.hist(model.resid)"
   ]
  },
  {
   "cell_type": "code",
   "execution_count": 48,
   "id": "18576bcb",
   "metadata": {
    "scrolled": true
   },
   "outputs": [
    {
     "name": "stderr",
     "output_type": "stream",
     "text": [
      "/Users/vishpra/opt/anaconda3/lib/python3.8/site-packages/statsmodels/graphics/gofplots.py:993: UserWarning: marker is redundantly defined by the 'marker' keyword argument and the fmt string \"bo\" (-> marker='o'). The keyword argument will take precedence.\n",
      "  ax.plot(x, y, fmt, **plot_style)\n"
     ]
    },
    {
     "data": {
      "image/png": "[encoded data removed]",
      "text/plain": [
       "<Figure size 432x288 with 1 Axes>"
      ]
     },
     "metadata": {
      "needs_background": "light"
     },
     "output_type": "display_data"
    }
   ],
   "source": [
    "#QQ plot\n",
    "sm.qqplot(model.resid,line='q')\n",
    "pylab.show()"
   ]
  },
  {
   "cell_type": "markdown",
   "id": "fa07c99e",
   "metadata": {},
   "source": [
    "# 5. Test for influential points"
   ]
  },
  {
   "cell_type": "code",
   "execution_count": 49,
   "id": "4b96f466",
   "metadata": {},
   "outputs": [
    {
     "data": {
      "image/png": "[encoded data removed]",
      "text/plain": [
       "<Figure size 864x864 with 1 Axes>"
      ]
     },
     "metadata": {
      "needs_background": "light"
     },
     "output_type": "display_data"
    }
   ],
   "source": [
    "#graphical representation of the influences()\n",
    "fig, ax = plt.subplots(figsize=(12,12))\n",
    "fig=sm.graphics.influence_plot(model,ax=ax, criterion=\"cooks\") \n",
    "#size of points are given by cook's dist value\n",
    "#the points with big size and out of the (-3,3) should raise a flag"
   ]
  },
  {
   "cell_type": "code",
   "execution_count": 60,
   "id": "d115056b",
   "metadata": {},
   "outputs": [
    {
     "name": "stdout",
     "output_type": "stream",
     "text": [
      "318 Int64Index([ 105,  131,  132,  133,  134,  135,  136,  137,  139,  145,\n",
      "            ...\n",
      "            7860, 7862, 7872, 7873, 7924, 7930, 7952, 7976, 8052, 8057],\n",
      "           dtype='int64', length=318) [-2.17525994  3.45012158  4.93311492  2.0673879   2.26039987  4.36526688\n",
      "  6.22013999  2.94045188  6.6097532   2.34565921  5.97560232 -2.27678826\n",
      " 14.31947488  4.30417408  2.69031247  4.93311492  2.0673879   2.98702554\n",
      "  5.87582937  6.06225353  4.93311492  2.0673879   2.98702554  5.87582937\n",
      "  6.06225353 -2.2271705  -2.2271705  -1.96163889 -1.97905057 -2.00328698\n",
      " -2.5831403   4.93311492  2.0673879   2.98702554  5.87582937  6.06225353\n",
      " -2.14827593 -2.1309524   2.54335818 -2.00967291 -2.15543083  6.01567722\n",
      "  4.93311492  2.0673879   2.98702554  5.87582937  6.06225353  4.93311492\n",
      "  2.0673879   2.98702554  5.87582937  6.06225353  4.93311492  2.0673879\n",
      "  2.98702554  5.87582937  6.06225353  4.93311492  2.0673879   2.98702554\n",
      "  5.87582937  6.06225353 -2.12325775 -2.31991535 -2.05324519 -2.16230784\n",
      "  3.45012158  4.93311492  2.0673879   2.26039987 -2.00667929 -2.05379305\n",
      "  4.93311492  2.0673879   2.98702554  5.87582937  6.06225353 -2.0613702\n",
      "  3.93261547  3.10093213 -2.05948992  2.98702554 -2.09863718 -2.3697734\n",
      "  3.45012158  4.93311492  2.0673879   2.26039987  5.87582937  6.06225353\n",
      " -2.05095386 -2.17362218  2.17033454  3.25932673 -1.99045407 -1.99045407\n",
      " -2.30151844 -2.7079139  -2.00084836 -2.19054028 -2.00245891 -3.0946016\n",
      " -2.01066836 -2.19416729  4.93311492  2.0673879   2.98702554  5.87582937\n",
      "  6.06225353 -1.97274464 -1.9839161   4.93311492  2.0673879   2.98702554\n",
      "  5.87582937  6.06225353 -1.9745453   2.24469017 -2.36637548 -1.9687062\n",
      "  3.10327808 -1.98778358  2.54148974  8.07801912 -1.96675519 -1.96662261\n",
      "  4.93311492  2.0673879   2.98702554  5.87582937  6.06225353 -2.02697917\n",
      " -2.06878477 -1.96281265 -2.00072368  3.45012158  4.93311492  2.0673879\n",
      "  2.26039987  4.36526688  2.94045188  2.94679896  2.34565921 -1.96269152\n",
      " -2.32046714 -2.09863718 -2.11730002 -2.00603839  4.93311492  2.0673879\n",
      "  2.98702554  5.87582937  6.06225353  9.66616828  4.93311492  2.0673879\n",
      "  2.98702554  5.87582937  6.06225353 -1.97422949 -1.96766945  4.93311492\n",
      "  2.0673879   2.98702554  5.87582937  6.06225353 -2.05379305 -1.97591615\n",
      "  2.54335818 -2.00967291 -2.15543083  6.01567722 -2.20422201  4.93311492\n",
      "  2.0673879   2.98702554  5.87582937  6.06225353  4.93311492  2.0673879\n",
      "  2.98702554  5.87582937  6.06225353  4.93311492  2.0673879   2.98702554\n",
      "  5.87582937  6.06225353 -2.06531219  4.93311492  2.0673879   2.98702554\n",
      "  5.87582937  6.06225353 -2.17362218  4.93311492  2.0673879   2.98702554\n",
      "  5.87582937  6.06225353 -1.96319873 -1.99544992  5.48334225 -2.31991535\n",
      "  5.08041473 -2.06727963  6.01213695  4.93311492  2.0673879   2.98702554\n",
      "  5.87582937  6.06225353 -2.74307495 -2.04489473  4.93311492  2.0673879\n",
      "  2.98702554  5.87582937  6.06225353 -1.96052481 -2.08037977 -2.10866758\n",
      "  2.16844649  3.45012158  4.93311492  2.0673879   2.26039987  5.87582937\n",
      "  6.06225353  5.73902206  4.36526688  6.22013999  3.26408943 -2.01777737\n",
      " -2.04550471 -1.97369305  2.10526541  4.93311492  2.0673879   2.98702554\n",
      "  5.87582937  6.06225353  3.10093213 -2.11703273 -1.96281265 -2.43706266\n",
      "  4.93311492  2.0673879   2.98702554  5.87582937  6.06225353 -2.26275558\n",
      "  2.98702554  2.03461073  5.70953072 -1.97664869 -1.96940638 -2.1956934\n",
      "  4.93311492  2.0673879   2.98702554  5.87582937  6.06225353  4.93311492\n",
      "  2.0673879   2.98702554  5.87582937  6.06225353 -2.32043503  4.93311492\n",
      "  2.0673879   2.98702554  5.87582937  6.06225353 -2.05682169  4.93311492\n",
      "  2.0673879   2.98702554  5.87582937  6.06225353 -2.33010457 -1.96163889\n",
      " -2.17789881  2.17033454 -2.25229961  2.83895612  4.29814233  6.65117326\n",
      " -2.13156466 -2.07007241 -1.97905057 -2.04550471  6.44375206 -2.13156466\n",
      " -2.04489473  5.70953072 -2.13876522  3.45012158  4.93311492  2.0673879\n",
      "  2.26039987  3.26408943  5.73902206  4.36526688  6.22013999  5.48334225\n",
      " -2.17197608  4.93311492  2.0673879   2.98702554  5.87582937  6.06225353\n",
      " -2.06307398  6.08633261 -1.9926172  -1.9926172  -2.0051696  -2.41239361]\n"
     ]
    }
   ],
   "source": [
    "#threshold externally studentized residuals\n",
    "import scipy\n",
    "n=7814\n",
    "p=8\n",
    "inf = model.get_influence()\n",
    "seuil_stud = scipy.stats.t.ppf(0.975,df=n-p-1)\n",
    "#detection - absolute value > threshold\n",
    "reg_studs=inf.resid_studentized_external\n",
    "atyp_stud = np.abs(reg_studs) > seuil_stud\n",
    "\n",
    "\n",
    "print(len(reg_studs[atyp_stud]), cars.index[atyp_stud], reg_studs[atyp_stud])"
   ]
  },
  {
   "cell_type": "code",
   "execution_count": 61,
   "id": "1e98aaf3",
   "metadata": {},
   "outputs": [
    {
     "name": "stdout",
     "output_type": "stream",
     "text": [
      "533 Int64Index([  69,  105,  131,  132,  133,  134,  135,  136,  137,  139,\n",
      "            ...\n",
      "            8003, 8025, 8030, 8042, 8045, 8052, 8057, 8081, 8086, 8115],\n",
      "           dtype='int64', length=533) 69      0.000541\n",
      "105     0.001061\n",
      "131     0.001600\n",
      "132     0.010863\n",
      "133     0.000534\n",
      "          ...   \n",
      "8052    0.000817\n",
      "8057    0.001124\n",
      "8081    0.000568\n",
      "8086    0.000566\n",
      "8115    0.001160\n",
      "Name: cooks_d, Length: 533, dtype: float64\n"
     ]
    }
   ],
   "source": [
    "#Cook's distance\n",
    "inflsum=inf.summary_frame()\n",
    "reg_cook=inflsum.cooks_d\n",
    "\n",
    "atyp_cook = np.abs(reg_cook) >= 4/n\n",
    "print(len(reg_cook[atyp_cook]), cars.index[atyp_cook],reg_cook[atyp_cook])"
   ]
  },
  {
   "cell_type": "code",
   "execution_count": 62,
   "id": "694a0b41",
   "metadata": {},
   "outputs": [
    {
     "name": "stdout",
     "output_type": "stream",
     "text": [
      "316\n"
     ]
    }
   ],
   "source": [
    "#find the points shown in both list\n",
    "intersection_set = set.intersection(set(cars.index[atyp_stud]), set(cars.index[atyp_cook]))\n",
    "intersection_list = list(intersection_set)\n",
    "print(len(intersection_list)) # Number of influential points"
   ]
  },
  {
   "cell_type": "code",
   "execution_count": 63,
   "id": "f69b48ae",
   "metadata": {},
   "outputs": [],
   "source": [
    "#drop influential points\n",
    "data_new=cars.copy().drop(labels=intersection_list,axis=0)"
   ]
  },
  {
   "cell_type": "code",
   "execution_count": 64,
   "id": "51039e08",
   "metadata": {},
   "outputs": [
    {
     "data": {
      "text/html": [
       "<table class=\"simpletable\">\n",
       "<caption>OLS Regression Results</caption>\n",
       "<tr>\n",
       "  <th>Dep. Variable:</th>      <td>selling_price</td>  <th>  R-squared:         </th> <td>   0.639</td> \n",
       "</tr>\n",
       "<tr>\n",
       "  <th>Model:</th>                   <td>OLS</td>       <th>  Adj. R-squared:    </th> <td>   0.639</td> \n",
       "</tr>\n",
       "<tr>\n",
       "  <th>Method:</th>             <td>Least Squares</td>  <th>  F-statistic:       </th> <td>   1656.</td> \n",
       "</tr>\n",
       "<tr>\n",
       "  <th>Date:</th>             <td>Wed, 20 Oct 2021</td> <th>  Prob (F-statistic):</th>  <td>  0.00</td>  \n",
       "</tr>\n",
       "<tr>\n",
       "  <th>Time:</th>                 <td>00:03:34</td>     <th>  Log-Likelihood:    </th> <td> -52427.</td> \n",
       "</tr>\n",
       "<tr>\n",
       "  <th>No. Observations:</th>      <td>  7498</td>      <th>  AIC:               </th> <td>1.049e+05</td>\n",
       "</tr>\n",
       "<tr>\n",
       "  <th>Df Residuals:</th>          <td>  7489</td>      <th>  BIC:               </th> <td>1.049e+05</td>\n",
       "</tr>\n",
       "<tr>\n",
       "  <th>Df Model:</th>              <td>     8</td>      <th>                     </th>     <td> </td>    \n",
       "</tr>\n",
       "<tr>\n",
       "  <th>Covariance Type:</th>      <td>nonrobust</td>    <th>                     </th>     <td> </td>    \n",
       "</tr>\n",
       "</table>\n",
       "<table class=\"simpletable\">\n",
       "<tr>\n",
       "                 <td></td>                    <th>coef</th>     <th>std err</th>      <th>t</th>      <th>P>|t|</th>  <th>[0.025</th>    <th>0.975]</th>  \n",
       "</tr>\n",
       "<tr>\n",
       "  <th>Intercept</th>                       <td> 1046.2915</td> <td>   46.459</td> <td>   22.521</td> <td> 0.000</td> <td>  955.218</td> <td> 1137.365</td>\n",
       "</tr>\n",
       "<tr>\n",
       "  <th>C(fuel)[T.Petrol]</th>               <td> -139.9225</td> <td>    9.309</td> <td>  -15.030</td> <td> 0.000</td> <td> -158.171</td> <td> -121.674</td>\n",
       "</tr>\n",
       "<tr>\n",
       "  <th>C(transmission)[T.Manual]</th>       <td> -522.3721</td> <td>   11.059</td> <td>  -47.233</td> <td> 0.000</td> <td> -544.052</td> <td> -500.693</td>\n",
       "</tr>\n",
       "<tr>\n",
       "  <th>C(owner)[T.Second Owner]</th>        <td>  -48.7636</td> <td>    7.735</td> <td>   -6.304</td> <td> 0.000</td> <td>  -63.926</td> <td>  -33.601</td>\n",
       "</tr>\n",
       "<tr>\n",
       "  <th>C(owner)[T.Third & Above Owner]</th> <td>  -35.2061</td> <td>   12.198</td> <td>   -2.886</td> <td> 0.004</td> <td>  -59.118</td> <td>  -11.295</td>\n",
       "</tr>\n",
       "<tr>\n",
       "  <th>age</th>                             <td>  -38.3176</td> <td>    1.103</td> <td>  -34.731</td> <td> 0.000</td> <td>  -40.480</td> <td>  -36.155</td>\n",
       "</tr>\n",
       "<tr>\n",
       "  <th>km_driven</th>                       <td>   -0.0016</td> <td> 8.12e-05</td> <td>  -19.295</td> <td> 0.000</td> <td>   -0.002</td> <td>   -0.001</td>\n",
       "</tr>\n",
       "<tr>\n",
       "  <th>mileage</th>                         <td>   -4.9583</td> <td>    1.293</td> <td>   -3.835</td> <td> 0.000</td> <td>   -7.492</td> <td>   -2.424</td>\n",
       "</tr>\n",
       "<tr>\n",
       "  <th>engine</th>                          <td>    0.3380</td> <td>    0.012</td> <td>   28.588</td> <td> 0.000</td> <td>    0.315</td> <td>    0.361</td>\n",
       "</tr>\n",
       "</table>\n",
       "<table class=\"simpletable\">\n",
       "<tr>\n",
       "  <th>Omnibus:</th>       <td>2403.289</td> <th>  Durbin-Watson:     </th> <td>   1.920</td> \n",
       "</tr>\n",
       "<tr>\n",
       "  <th>Prob(Omnibus):</th>  <td> 0.000</td>  <th>  Jarque-Bera (JB):  </th> <td>14144.996</td>\n",
       "</tr>\n",
       "<tr>\n",
       "  <th>Skew:</th>           <td> 1.409</td>  <th>  Prob(JB):          </th> <td>    0.00</td> \n",
       "</tr>\n",
       "<tr>\n",
       "  <th>Kurtosis:</th>       <td> 9.110</td>  <th>  Cond. No.          </th> <td>1.31e+06</td> \n",
       "</tr>\n",
       "</table><br/><br/>Notes:<br/>[1] Standard Errors assume that the covariance matrix of the errors is correctly specified.<br/>[2] The condition number is large, 1.31e+06. This might indicate that there are<br/>strong multicollinearity or other numerical problems."
      ],
      "text/plain": [
       "<class 'statsmodels.iolib.summary.Summary'>\n",
       "\"\"\"\n",
       "                            OLS Regression Results                            \n",
       "==============================================================================\n",
       "Dep. Variable:          selling_price   R-squared:                       0.639\n",
       "Model:                            OLS   Adj. R-squared:                  0.639\n",
       "Method:                 Least Squares   F-statistic:                     1656.\n",
       "Date:                Wed, 20 Oct 2021   Prob (F-statistic):               0.00\n",
       "Time:                        00:03:34   Log-Likelihood:                -52427.\n",
       "No. Observations:                7498   AIC:                         1.049e+05\n",
       "Df Residuals:                    7489   BIC:                         1.049e+05\n",
       "Df Model:                           8                                         \n",
       "Covariance Type:            nonrobust                                         \n",
       "===================================================================================================\n",
       "                                      coef    std err          t      P>|t|      [0.025      0.975]\n",
       "---------------------------------------------------------------------------------------------------\n",
       "Intercept                        1046.2915     46.459     22.521      0.000     955.218    1137.365\n",
       "C(fuel)[T.Petrol]                -139.9225      9.309    -15.030      0.000    -158.171    -121.674\n",
       "C(transmission)[T.Manual]        -522.3721     11.059    -47.233      0.000    -544.052    -500.693\n",
       "C(owner)[T.Second Owner]          -48.7636      7.735     -6.304      0.000     -63.926     -33.601\n",
       "C(owner)[T.Third & Above Owner]   -35.2061     12.198     -2.886      0.004     -59.118     -11.295\n",
       "age                               -38.3176      1.103    -34.731      0.000     -40.480     -36.155\n",
       "km_driven                          -0.0016   8.12e-05    -19.295      0.000      -0.002      -0.001\n",
       "mileage                            -4.9583      1.293     -3.835      0.000      -7.492      -2.424\n",
       "engine                              0.3380      0.012     28.588      0.000       0.315       0.361\n",
       "==============================================================================\n",
       "Omnibus:                     2403.289   Durbin-Watson:                   1.920\n",
       "Prob(Omnibus):                  0.000   Jarque-Bera (JB):            14144.996\n",
       "Skew:                           1.409   Prob(JB):                         0.00\n",
       "Kurtosis:                       9.110   Cond. No.                     1.31e+06\n",
       "==============================================================================\n",
       "\n",
       "Notes:\n",
       "[1] Standard Errors assume that the covariance matrix of the errors is correctly specified.\n",
       "[2] The condition number is large, 1.31e+06. This might indicate that there are\n",
       "strong multicollinearity or other numerical problems.\n",
       "\"\"\""
      ]
     },
     "execution_count": 64,
     "metadata": {},
     "output_type": "execute_result"
    }
   ],
   "source": [
    "model1 =smf.ols('selling_price ~ age + km_driven + mileage + engine + C(fuel) + C(transmission) + C(owner)',data=data_new).fit()\n",
    "model1.summary()"
   ]
  },
  {
   "cell_type": "code",
   "execution_count": 65,
   "id": "a08774b2",
   "metadata": {
    "scrolled": true
   },
   "outputs": [
    {
     "data": {
      "text/plain": [
       "Text(0.5, 1.0, 'Fitted Values vs. Residuals')"
      ]
     },
     "execution_count": 65,
     "metadata": {},
     "output_type": "execute_result"
    },
    {
     "data": {
      "image/png": "[encoded data removed]",
      "text/plain": [
       "<Figure size 432x288 with 1 Axes>"
      ]
     },
     "metadata": {
      "needs_background": "light"
     },
     "output_type": "display_data"
    }
   ],
   "source": [
    "#Fitted Values vs. Residuals Plot\n",
    "fitted = model1.fittedvalues\n",
    "res = model1.resid\n",
    "plt.scatter(fitted,res)\n",
    "plt.xlabel(\"Fitted Values\")\n",
    "plt.ylabel(\"Residual\")\n",
    "plt.title(\"Fitted Values vs. Residuals\")"
   ]
  },
  {
   "cell_type": "markdown",
   "id": "ef2863ea",
   "metadata": {},
   "source": [
    "# 6. Test for Heteroscedasticity"
   ]
  },
  {
   "cell_type": "code",
   "execution_count": 67,
   "id": "814ef051",
   "metadata": {},
   "outputs": [
    {
     "name": "stdout",
     "output_type": "stream",
     "text": [
      "{'LM Statistic': 2382.553931940368, 'LM-Test p-value': 0.0}\n"
     ]
    }
   ],
   "source": [
    "#Breusch-Pagan for Heteroskedasticity\n",
    "from statsmodels.stats.diagnostic import het_breuschpagan\n",
    "bp_test = het_breuschpagan(model1.resid, model1.model.exog)\n",
    "labels = ['LM Statistic', 'LM-Test p-value']\n",
    "print(dict(zip(labels, bp_test)))"
   ]
  },
  {
   "cell_type": "code",
   "execution_count": 68,
   "id": "00bdcadf",
   "metadata": {},
   "outputs": [
    {
     "data": {
      "text/html": [
       "<table class=\"simpletable\">\n",
       "<caption>OLS Regression Results</caption>\n",
       "<tr>\n",
       "  <th>Dep. Variable:</th>    <td>np.log(selling_price)</td> <th>  R-squared:         </th> <td>   0.802</td>\n",
       "</tr>\n",
       "<tr>\n",
       "  <th>Model:</th>                     <td>OLS</td>          <th>  Adj. R-squared:    </th> <td>   0.802</td>\n",
       "</tr>\n",
       "<tr>\n",
       "  <th>Method:</th>               <td>Least Squares</td>     <th>  F-statistic:       </th> <td>   3956.</td>\n",
       "</tr>\n",
       "<tr>\n",
       "  <th>Date:</th>               <td>Wed, 20 Oct 2021</td>    <th>  Prob (F-statistic):</th>  <td>  0.00</td> \n",
       "</tr>\n",
       "<tr>\n",
       "  <th>Time:</th>                   <td>00:04:34</td>        <th>  Log-Likelihood:    </th> <td> -3273.7</td>\n",
       "</tr>\n",
       "<tr>\n",
       "  <th>No. Observations:</th>        <td>  7814</td>         <th>  AIC:               </th> <td>   6565.</td>\n",
       "</tr>\n",
       "<tr>\n",
       "  <th>Df Residuals:</th>            <td>  7805</td>         <th>  BIC:               </th> <td>   6628.</td>\n",
       "</tr>\n",
       "<tr>\n",
       "  <th>Df Model:</th>                <td>     8</td>         <th>                     </th>     <td> </td>   \n",
       "</tr>\n",
       "<tr>\n",
       "  <th>Covariance Type:</th>        <td>nonrobust</td>       <th>                     </th>     <td> </td>   \n",
       "</tr>\n",
       "</table>\n",
       "<table class=\"simpletable\">\n",
       "<tr>\n",
       "                 <td></td>                    <th>coef</th>     <th>std err</th>      <th>t</th>      <th>P>|t|</th>  <th>[0.025</th>    <th>0.975]</th>  \n",
       "</tr>\n",
       "<tr>\n",
       "  <th>Intercept</th>                       <td>    6.3020</td> <td>    0.060</td> <td>  105.745</td> <td> 0.000</td> <td>    6.185</td> <td>    6.419</td>\n",
       "</tr>\n",
       "<tr>\n",
       "  <th>C(fuel)[T.Petrol]</th>               <td>   -0.1697</td> <td>    0.012</td> <td>  -14.190</td> <td> 0.000</td> <td>   -0.193</td> <td>   -0.146</td>\n",
       "</tr>\n",
       "<tr>\n",
       "  <th>C(transmission)[T.Manual]</th>       <td>   -0.5628</td> <td>    0.014</td> <td>  -41.036</td> <td> 0.000</td> <td>   -0.590</td> <td>   -0.536</td>\n",
       "</tr>\n",
       "<tr>\n",
       "  <th>C(owner)[T.Second Owner]</th>        <td>   -0.0874</td> <td>    0.011</td> <td>   -8.142</td> <td> 0.000</td> <td>   -0.108</td> <td>   -0.066</td>\n",
       "</tr>\n",
       "<tr>\n",
       "  <th>C(owner)[T.Third & Above Owner]</th> <td>   -0.1084</td> <td>    0.017</td> <td>   -6.427</td> <td> 0.000</td> <td>   -0.142</td> <td>   -0.075</td>\n",
       "</tr>\n",
       "<tr>\n",
       "  <th>age</th>                             <td>   -0.1229</td> <td>    0.001</td> <td>  -82.967</td> <td> 0.000</td> <td>   -0.126</td> <td>   -0.120</td>\n",
       "</tr>\n",
       "<tr>\n",
       "  <th>km_driven</th>                       <td>-6.997e-07</td> <td> 8.72e-08</td> <td>   -8.022</td> <td> 0.000</td> <td>-8.71e-07</td> <td>-5.29e-07</td>\n",
       "</tr>\n",
       "<tr>\n",
       "  <th>mileage</th>                         <td>    0.0083</td> <td>    0.002</td> <td>    4.933</td> <td> 0.000</td> <td>    0.005</td> <td>    0.012</td>\n",
       "</tr>\n",
       "<tr>\n",
       "  <th>engine</th>                          <td>    0.0007</td> <td>  1.5e-05</td> <td>   46.426</td> <td> 0.000</td> <td>    0.001</td> <td>    0.001</td>\n",
       "</tr>\n",
       "</table>\n",
       "<table class=\"simpletable\">\n",
       "<tr>\n",
       "  <th>Omnibus:</th>       <td>254.746</td> <th>  Durbin-Watson:     </th> <td>   1.809</td> \n",
       "</tr>\n",
       "<tr>\n",
       "  <th>Prob(Omnibus):</th> <td> 0.000</td>  <th>  Jarque-Bera (JB):  </th> <td> 536.723</td> \n",
       "</tr>\n",
       "<tr>\n",
       "  <th>Skew:</th>          <td>-0.211</td>  <th>  Prob(JB):          </th> <td>2.83e-117</td>\n",
       "</tr>\n",
       "<tr>\n",
       "  <th>Kurtosis:</th>      <td> 4.213</td>  <th>  Cond. No.          </th> <td>1.30e+06</td> \n",
       "</tr>\n",
       "</table><br/><br/>Notes:<br/>[1] Standard Errors assume that the covariance matrix of the errors is correctly specified.<br/>[2] The condition number is large, 1.3e+06. This might indicate that there are<br/>strong multicollinearity or other numerical problems."
      ],
      "text/plain": [
       "<class 'statsmodels.iolib.summary.Summary'>\n",
       "\"\"\"\n",
       "                              OLS Regression Results                             \n",
       "=================================================================================\n",
       "Dep. Variable:     np.log(selling_price)   R-squared:                       0.802\n",
       "Model:                               OLS   Adj. R-squared:                  0.802\n",
       "Method:                    Least Squares   F-statistic:                     3956.\n",
       "Date:                   Wed, 20 Oct 2021   Prob (F-statistic):               0.00\n",
       "Time:                           00:04:34   Log-Likelihood:                -3273.7\n",
       "No. Observations:                   7814   AIC:                             6565.\n",
       "Df Residuals:                       7805   BIC:                             6628.\n",
       "Df Model:                              8                                         \n",
       "Covariance Type:               nonrobust                                         \n",
       "===================================================================================================\n",
       "                                      coef    std err          t      P>|t|      [0.025      0.975]\n",
       "---------------------------------------------------------------------------------------------------\n",
       "Intercept                           6.3020      0.060    105.745      0.000       6.185       6.419\n",
       "C(fuel)[T.Petrol]                  -0.1697      0.012    -14.190      0.000      -0.193      -0.146\n",
       "C(transmission)[T.Manual]          -0.5628      0.014    -41.036      0.000      -0.590      -0.536\n",
       "C(owner)[T.Second Owner]           -0.0874      0.011     -8.142      0.000      -0.108      -0.066\n",
       "C(owner)[T.Third & Above Owner]    -0.1084      0.017     -6.427      0.000      -0.142      -0.075\n",
       "age                                -0.1229      0.001    -82.967      0.000      -0.126      -0.120\n",
       "km_driven                       -6.997e-07   8.72e-08     -8.022      0.000   -8.71e-07   -5.29e-07\n",
       "mileage                             0.0083      0.002      4.933      0.000       0.005       0.012\n",
       "engine                              0.0007    1.5e-05     46.426      0.000       0.001       0.001\n",
       "==============================================================================\n",
       "Omnibus:                      254.746   Durbin-Watson:                   1.809\n",
       "Prob(Omnibus):                  0.000   Jarque-Bera (JB):              536.723\n",
       "Skew:                          -0.211   Prob(JB):                    2.83e-117\n",
       "Kurtosis:                       4.213   Cond. No.                     1.30e+06\n",
       "==============================================================================\n",
       "\n",
       "Notes:\n",
       "[1] Standard Errors assume that the covariance matrix of the errors is correctly specified.\n",
       "[2] The condition number is large, 1.3e+06. This might indicate that there are\n",
       "strong multicollinearity or other numerical problems.\n",
       "\"\"\""
      ]
     },
     "execution_count": 68,
     "metadata": {},
     "output_type": "execute_result"
    }
   ],
   "source": [
    "model2 =smf.ols('np.log(selling_price) ~ age + km_driven + mileage + \\\n",
    "                 engine + C(fuel) + C(transmission) + C(owner)',data=cars).fit()\n",
    "model2.summary()"
   ]
  },
  {
   "cell_type": "code",
   "execution_count": 69,
   "id": "9b6de3da",
   "metadata": {},
   "outputs": [
    {
     "data": {
      "text/plain": [
       "Text(0.5, 1.0, 'Fitted Values vs. Residuals')"
      ]
     },
     "execution_count": 69,
     "metadata": {},
     "output_type": "execute_result"
    },
    {
     "data": {
      "image/png": "[encoded data removed]",
      "text/plain": [
       "<Figure size 432x288 with 1 Axes>"
      ]
     },
     "metadata": {
      "needs_background": "light"
     },
     "output_type": "display_data"
    }
   ],
   "source": [
    "#Fitted Values vs. Residuals Plot\n",
    "fitted = model2.fittedvalues\n",
    "res = model2.resid\n",
    "plt.scatter(fitted,res)\n",
    "plt.xlabel(\"Fitted Values\")\n",
    "plt.ylabel(\"Residual\")\n",
    "plt.title(\"Fitted Values vs. Residuals\")"
   ]
  },
  {
   "cell_type": "code",
   "execution_count": 70,
   "id": "d31075b6",
   "metadata": {},
   "outputs": [
    {
     "name": "stdout",
     "output_type": "stream",
     "text": [
      "{'LM Statistic': 980.6327375666725, 'LM-Test p-value': 2.2607081765289463e-206}\n"
     ]
    }
   ],
   "source": [
    "#Breusch-Pagan for Heteroskedasticity\n",
    "from statsmodels.stats.diagnostic import het_breuschpagan\n",
    "bp_test = het_breuschpagan(model2.resid, model2.model.exog)\n",
    "labels = ['LM Statistic', 'LM-Test p-value']\n",
    "print(dict(zip(labels, bp_test)))"
   ]
  },
  {
   "cell_type": "code",
   "execution_count": 73,
   "id": "cbea9746",
   "metadata": {},
   "outputs": [
    {
     "name": "stderr",
     "output_type": "stream",
     "text": [
      "/Users/vishpra/opt/anaconda3/lib/python3.8/site-packages/statsmodels/graphics/gofplots.py:993: UserWarning: marker is redundantly defined by the 'marker' keyword argument and the fmt string \"bo\" (-> marker='o'). The keyword argument will take precedence.\n",
      "  ax.plot(x, y, fmt, **plot_style)\n"
     ]
    },
    {
     "data": {
      "image/png": "[encoded data removed]",
      "text/plain": [
       "<Figure size 432x288 with 1 Axes>"
      ]
     },
     "metadata": {
      "needs_background": "light"
     },
     "output_type": "display_data"
    }
   ],
   "source": [
    "sm.qqplot(model2.resid)\n",
    "pylab.show()"
   ]
  },
  {
   "cell_type": "markdown",
   "id": "9faedf0d",
   "metadata": {},
   "source": [
    "# 7. Model selection"
   ]
  },
  {
   "cell_type": "markdown",
   "id": "84c08c7a",
   "metadata": {},
   "source": [
    "### Finding candidate models using best subset approach"
   ]
  },
  {
   "cell_type": "code",
   "execution_count": 47,
   "id": "4dffb775",
   "metadata": {},
   "outputs": [
    {
     "data": {
      "text/plain": [
       "['age', 'km_driven', 'mileage', 'engine', 'fuel', 'transmission', 'owner']"
      ]
     },
     "execution_count": 47,
     "metadata": {},
     "output_type": "execute_result"
    }
   ],
   "source": [
    "all_cols = list(cars.columns[1:])\n",
    "all_cols"
   ]
  },
  {
   "cell_type": "code",
   "execution_count": 48,
   "id": "50dd1841",
   "metadata": {},
   "outputs": [],
   "source": [
    "all_cols[4] = 'C(fuel)'\n",
    "all_cols[5] = 'C(transmission)'\n",
    "all_cols[6] = 'C(owner)'"
   ]
  },
  {
   "cell_type": "code",
   "execution_count": 50,
   "id": "24469b3b",
   "metadata": {},
   "outputs": [
    {
     "data": {
      "text/plain": [
       "127"
      ]
     },
     "execution_count": 50,
     "metadata": {},
     "output_type": "execute_result"
    }
   ],
   "source": [
    "sub = [list(subset) for n in range(1,len(all_cols)+1) for subset in itertools.combinations(all_cols,n)]\n",
    "len(sub)"
   ]
  },
  {
   "cell_type": "code",
   "execution_count": 51,
   "id": "129fc151",
   "metadata": {},
   "outputs": [
    {
     "data": {
      "text/plain": [
       "[['age'],\n",
       " ['km_driven'],\n",
       " ['mileage'],\n",
       " ['engine'],\n",
       " ['C(fuel)'],\n",
       " ['C(transmission)'],\n",
       " ['C(owner)'],\n",
       " ['age', 'km_driven'],\n",
       " ['age', 'mileage'],\n",
       " ['age', 'engine'],\n",
       " ['age', 'C(fuel)'],\n",
       " ['age', 'C(transmission)'],\n",
       " ['age', 'C(owner)'],\n",
       " ['km_driven', 'mileage'],\n",
       " ['km_driven', 'engine'],\n",
       " ['km_driven', 'C(fuel)'],\n",
       " ['km_driven', 'C(transmission)'],\n",
       " ['km_driven', 'C(owner)'],\n",
       " ['mileage', 'engine'],\n",
       " ['mileage', 'C(fuel)'],\n",
       " ['mileage', 'C(transmission)'],\n",
       " ['mileage', 'C(owner)'],\n",
       " ['engine', 'C(fuel)'],\n",
       " ['engine', 'C(transmission)'],\n",
       " ['engine', 'C(owner)'],\n",
       " ['C(fuel)', 'C(transmission)'],\n",
       " ['C(fuel)', 'C(owner)'],\n",
       " ['C(transmission)', 'C(owner)'],\n",
       " ['age', 'km_driven', 'mileage'],\n",
       " ['age', 'km_driven', 'engine'],\n",
       " ['age', 'km_driven', 'C(fuel)'],\n",
       " ['age', 'km_driven', 'C(transmission)'],\n",
       " ['age', 'km_driven', 'C(owner)'],\n",
       " ['age', 'mileage', 'engine'],\n",
       " ['age', 'mileage', 'C(fuel)'],\n",
       " ['age', 'mileage', 'C(transmission)'],\n",
       " ['age', 'mileage', 'C(owner)'],\n",
       " ['age', 'engine', 'C(fuel)'],\n",
       " ['age', 'engine', 'C(transmission)'],\n",
       " ['age', 'engine', 'C(owner)'],\n",
       " ['age', 'C(fuel)', 'C(transmission)'],\n",
       " ['age', 'C(fuel)', 'C(owner)'],\n",
       " ['age', 'C(transmission)', 'C(owner)'],\n",
       " ['km_driven', 'mileage', 'engine'],\n",
       " ['km_driven', 'mileage', 'C(fuel)'],\n",
       " ['km_driven', 'mileage', 'C(transmission)'],\n",
       " ['km_driven', 'mileage', 'C(owner)'],\n",
       " ['km_driven', 'engine', 'C(fuel)'],\n",
       " ['km_driven', 'engine', 'C(transmission)'],\n",
       " ['km_driven', 'engine', 'C(owner)'],\n",
       " ['km_driven', 'C(fuel)', 'C(transmission)'],\n",
       " ['km_driven', 'C(fuel)', 'C(owner)'],\n",
       " ['km_driven', 'C(transmission)', 'C(owner)'],\n",
       " ['mileage', 'engine', 'C(fuel)'],\n",
       " ['mileage', 'engine', 'C(transmission)'],\n",
       " ['mileage', 'engine', 'C(owner)'],\n",
       " ['mileage', 'C(fuel)', 'C(transmission)'],\n",
       " ['mileage', 'C(fuel)', 'C(owner)'],\n",
       " ['mileage', 'C(transmission)', 'C(owner)'],\n",
       " ['engine', 'C(fuel)', 'C(transmission)'],\n",
       " ['engine', 'C(fuel)', 'C(owner)'],\n",
       " ['engine', 'C(transmission)', 'C(owner)'],\n",
       " ['C(fuel)', 'C(transmission)', 'C(owner)'],\n",
       " ['age', 'km_driven', 'mileage', 'engine'],\n",
       " ['age', 'km_driven', 'mileage', 'C(fuel)'],\n",
       " ['age', 'km_driven', 'mileage', 'C(transmission)'],\n",
       " ['age', 'km_driven', 'mileage', 'C(owner)'],\n",
       " ['age', 'km_driven', 'engine', 'C(fuel)'],\n",
       " ['age', 'km_driven', 'engine', 'C(transmission)'],\n",
       " ['age', 'km_driven', 'engine', 'C(owner)'],\n",
       " ['age', 'km_driven', 'C(fuel)', 'C(transmission)'],\n",
       " ['age', 'km_driven', 'C(fuel)', 'C(owner)'],\n",
       " ['age', 'km_driven', 'C(transmission)', 'C(owner)'],\n",
       " ['age', 'mileage', 'engine', 'C(fuel)'],\n",
       " ['age', 'mileage', 'engine', 'C(transmission)'],\n",
       " ['age', 'mileage', 'engine', 'C(owner)'],\n",
       " ['age', 'mileage', 'C(fuel)', 'C(transmission)'],\n",
       " ['age', 'mileage', 'C(fuel)', 'C(owner)'],\n",
       " ['age', 'mileage', 'C(transmission)', 'C(owner)'],\n",
       " ['age', 'engine', 'C(fuel)', 'C(transmission)'],\n",
       " ['age', 'engine', 'C(fuel)', 'C(owner)'],\n",
       " ['age', 'engine', 'C(transmission)', 'C(owner)'],\n",
       " ['age', 'C(fuel)', 'C(transmission)', 'C(owner)'],\n",
       " ['km_driven', 'mileage', 'engine', 'C(fuel)'],\n",
       " ['km_driven', 'mileage', 'engine', 'C(transmission)'],\n",
       " ['km_driven', 'mileage', 'engine', 'C(owner)'],\n",
       " ['km_driven', 'mileage', 'C(fuel)', 'C(transmission)'],\n",
       " ['km_driven', 'mileage', 'C(fuel)', 'C(owner)'],\n",
       " ['km_driven', 'mileage', 'C(transmission)', 'C(owner)'],\n",
       " ['km_driven', 'engine', 'C(fuel)', 'C(transmission)'],\n",
       " ['km_driven', 'engine', 'C(fuel)', 'C(owner)'],\n",
       " ['km_driven', 'engine', 'C(transmission)', 'C(owner)'],\n",
       " ['km_driven', 'C(fuel)', 'C(transmission)', 'C(owner)'],\n",
       " ['mileage', 'engine', 'C(fuel)', 'C(transmission)'],\n",
       " ['mileage', 'engine', 'C(fuel)', 'C(owner)'],\n",
       " ['mileage', 'engine', 'C(transmission)', 'C(owner)'],\n",
       " ['mileage', 'C(fuel)', 'C(transmission)', 'C(owner)'],\n",
       " ['engine', 'C(fuel)', 'C(transmission)', 'C(owner)'],\n",
       " ['age', 'km_driven', 'mileage', 'engine', 'C(fuel)'],\n",
       " ['age', 'km_driven', 'mileage', 'engine', 'C(transmission)'],\n",
       " ['age', 'km_driven', 'mileage', 'engine', 'C(owner)'],\n",
       " ['age', 'km_driven', 'mileage', 'C(fuel)', 'C(transmission)'],\n",
       " ['age', 'km_driven', 'mileage', 'C(fuel)', 'C(owner)'],\n",
       " ['age', 'km_driven', 'mileage', 'C(transmission)', 'C(owner)'],\n",
       " ['age', 'km_driven', 'engine', 'C(fuel)', 'C(transmission)'],\n",
       " ['age', 'km_driven', 'engine', 'C(fuel)', 'C(owner)'],\n",
       " ['age', 'km_driven', 'engine', 'C(transmission)', 'C(owner)'],\n",
       " ['age', 'km_driven', 'C(fuel)', 'C(transmission)', 'C(owner)'],\n",
       " ['age', 'mileage', 'engine', 'C(fuel)', 'C(transmission)'],\n",
       " ['age', 'mileage', 'engine', 'C(fuel)', 'C(owner)'],\n",
       " ['age', 'mileage', 'engine', 'C(transmission)', 'C(owner)'],\n",
       " ['age', 'mileage', 'C(fuel)', 'C(transmission)', 'C(owner)'],\n",
       " ['age', 'engine', 'C(fuel)', 'C(transmission)', 'C(owner)'],\n",
       " ['km_driven', 'mileage', 'engine', 'C(fuel)', 'C(transmission)'],\n",
       " ['km_driven', 'mileage', 'engine', 'C(fuel)', 'C(owner)'],\n",
       " ['km_driven', 'mileage', 'engine', 'C(transmission)', 'C(owner)'],\n",
       " ['km_driven', 'mileage', 'C(fuel)', 'C(transmission)', 'C(owner)'],\n",
       " ['km_driven', 'engine', 'C(fuel)', 'C(transmission)', 'C(owner)'],\n",
       " ['mileage', 'engine', 'C(fuel)', 'C(transmission)', 'C(owner)'],\n",
       " ['age', 'km_driven', 'mileage', 'engine', 'C(fuel)', 'C(transmission)'],\n",
       " ['age', 'km_driven', 'mileage', 'engine', 'C(fuel)', 'C(owner)'],\n",
       " ['age', 'km_driven', 'mileage', 'engine', 'C(transmission)', 'C(owner)'],\n",
       " ['age', 'km_driven', 'mileage', 'C(fuel)', 'C(transmission)', 'C(owner)'],\n",
       " ['age', 'km_driven', 'engine', 'C(fuel)', 'C(transmission)', 'C(owner)'],\n",
       " ['age', 'mileage', 'engine', 'C(fuel)', 'C(transmission)', 'C(owner)'],\n",
       " ['km_driven', 'mileage', 'engine', 'C(fuel)', 'C(transmission)', 'C(owner)'],\n",
       " ['age',\n",
       "  'km_driven',\n",
       "  'mileage',\n",
       "  'engine',\n",
       "  'C(fuel)',\n",
       "  'C(transmission)',\n",
       "  'C(owner)']]"
      ]
     },
     "execution_count": 51,
     "metadata": {},
     "output_type": "execute_result"
    }
   ],
   "source": [
    "sub"
   ]
  },
  {
   "cell_type": "code",
   "execution_count": 52,
   "id": "ef6a03fa",
   "metadata": {},
   "outputs": [
    {
     "name": "stdout",
     "output_type": "stream",
     "text": [
      "0 ['age']\n",
      "1 ['km_driven']\n",
      "2 ['mileage']\n",
      "3 ['engine']\n",
      "4 ['C(fuel)']\n",
      "5 ['C(transmission)']\n",
      "6 ['C(owner)']\n",
      "2\n",
      "7 ['age', 'km_driven']\n",
      "8 ['age', 'mileage']\n",
      "9 ['age', 'engine']\n",
      "10 ['age', 'C(fuel)']\n",
      "11 ['age', 'C(transmission)']\n",
      "12 ['age', 'C(owner)']\n",
      "13 ['km_driven', 'mileage']\n",
      "14 ['km_driven', 'engine']\n",
      "15 ['km_driven', 'C(fuel)']\n",
      "16 ['km_driven', 'C(transmission)']\n",
      "17 ['km_driven', 'C(owner)']\n",
      "18 ['mileage', 'engine']\n",
      "19 ['mileage', 'C(fuel)']\n",
      "20 ['mileage', 'C(transmission)']\n",
      "21 ['mileage', 'C(owner)']\n",
      "22 ['engine', 'C(fuel)']\n",
      "23 ['engine', 'C(transmission)']\n",
      "24 ['engine', 'C(owner)']\n",
      "25 ['C(fuel)', 'C(transmission)']\n",
      "26 ['C(fuel)', 'C(owner)']\n",
      "27 ['C(transmission)', 'C(owner)']\n",
      "3\n",
      "28 ['age', 'km_driven', 'mileage']\n",
      "29 ['age', 'km_driven', 'engine']\n",
      "30 ['age', 'km_driven', 'C(fuel)']\n",
      "31 ['age', 'km_driven', 'C(transmission)']\n",
      "32 ['age', 'km_driven', 'C(owner)']\n",
      "33 ['age', 'mileage', 'engine']\n",
      "34 ['age', 'mileage', 'C(fuel)']\n",
      "35 ['age', 'mileage', 'C(transmission)']\n",
      "36 ['age', 'mileage', 'C(owner)']\n",
      "37 ['age', 'engine', 'C(fuel)']\n",
      "38 ['age', 'engine', 'C(transmission)']\n",
      "39 ['age', 'engine', 'C(owner)']\n",
      "40 ['age', 'C(fuel)', 'C(transmission)']\n",
      "41 ['age', 'C(fuel)', 'C(owner)']\n",
      "42 ['age', 'C(transmission)', 'C(owner)']\n",
      "43 ['km_driven', 'mileage', 'engine']\n",
      "44 ['km_driven', 'mileage', 'C(fuel)']\n",
      "45 ['km_driven', 'mileage', 'C(transmission)']\n",
      "46 ['km_driven', 'mileage', 'C(owner)']\n",
      "47 ['km_driven', 'engine', 'C(fuel)']\n",
      "48 ['km_driven', 'engine', 'C(transmission)']\n",
      "49 ['km_driven', 'engine', 'C(owner)']\n",
      "50 ['km_driven', 'C(fuel)', 'C(transmission)']\n",
      "51 ['km_driven', 'C(fuel)', 'C(owner)']\n",
      "52 ['km_driven', 'C(transmission)', 'C(owner)']\n",
      "53 ['mileage', 'engine', 'C(fuel)']\n",
      "54 ['mileage', 'engine', 'C(transmission)']\n",
      "55 ['mileage', 'engine', 'C(owner)']\n",
      "56 ['mileage', 'C(fuel)', 'C(transmission)']\n",
      "57 ['mileage', 'C(fuel)', 'C(owner)']\n",
      "58 ['mileage', 'C(transmission)', 'C(owner)']\n",
      "59 ['engine', 'C(fuel)', 'C(transmission)']\n",
      "60 ['engine', 'C(fuel)', 'C(owner)']\n",
      "61 ['engine', 'C(transmission)', 'C(owner)']\n",
      "62 ['C(fuel)', 'C(transmission)', 'C(owner)']\n",
      "4\n",
      "63 ['age', 'km_driven', 'mileage', 'engine']\n",
      "64 ['age', 'km_driven', 'mileage', 'C(fuel)']\n",
      "65 ['age', 'km_driven', 'mileage', 'C(transmission)']\n",
      "66 ['age', 'km_driven', 'mileage', 'C(owner)']\n",
      "67 ['age', 'km_driven', 'engine', 'C(fuel)']\n",
      "68 ['age', 'km_driven', 'engine', 'C(transmission)']\n",
      "69 ['age', 'km_driven', 'engine', 'C(owner)']\n",
      "70 ['age', 'km_driven', 'C(fuel)', 'C(transmission)']\n",
      "71 ['age', 'km_driven', 'C(fuel)', 'C(owner)']\n",
      "72 ['age', 'km_driven', 'C(transmission)', 'C(owner)']\n",
      "73 ['age', 'mileage', 'engine', 'C(fuel)']\n",
      "74 ['age', 'mileage', 'engine', 'C(transmission)']\n",
      "75 ['age', 'mileage', 'engine', 'C(owner)']\n",
      "76 ['age', 'mileage', 'C(fuel)', 'C(transmission)']\n",
      "77 ['age', 'mileage', 'C(fuel)', 'C(owner)']\n",
      "78 ['age', 'mileage', 'C(transmission)', 'C(owner)']\n",
      "79 ['age', 'engine', 'C(fuel)', 'C(transmission)']\n",
      "80 ['age', 'engine', 'C(fuel)', 'C(owner)']\n",
      "81 ['age', 'engine', 'C(transmission)', 'C(owner)']\n",
      "82 ['age', 'C(fuel)', 'C(transmission)', 'C(owner)']\n",
      "83 ['km_driven', 'mileage', 'engine', 'C(fuel)']\n",
      "84 ['km_driven', 'mileage', 'engine', 'C(transmission)']\n",
      "85 ['km_driven', 'mileage', 'engine', 'C(owner)']\n",
      "86 ['km_driven', 'mileage', 'C(fuel)', 'C(transmission)']\n",
      "87 ['km_driven', 'mileage', 'C(fuel)', 'C(owner)']\n",
      "88 ['km_driven', 'mileage', 'C(transmission)', 'C(owner)']\n",
      "89 ['km_driven', 'engine', 'C(fuel)', 'C(transmission)']\n",
      "90 ['km_driven', 'engine', 'C(fuel)', 'C(owner)']\n",
      "91 ['km_driven', 'engine', 'C(transmission)', 'C(owner)']\n",
      "92 ['km_driven', 'C(fuel)', 'C(transmission)', 'C(owner)']\n",
      "93 ['mileage', 'engine', 'C(fuel)', 'C(transmission)']\n",
      "94 ['mileage', 'engine', 'C(fuel)', 'C(owner)']\n",
      "95 ['mileage', 'engine', 'C(transmission)', 'C(owner)']\n",
      "96 ['mileage', 'C(fuel)', 'C(transmission)', 'C(owner)']\n",
      "97 ['engine', 'C(fuel)', 'C(transmission)', 'C(owner)']\n",
      "5\n",
      "98 ['age', 'km_driven', 'mileage', 'engine', 'C(fuel)']\n",
      "99 ['age', 'km_driven', 'mileage', 'engine', 'C(transmission)']\n",
      "100 ['age', 'km_driven', 'mileage', 'engine', 'C(owner)']\n",
      "101 ['age', 'km_driven', 'mileage', 'C(fuel)', 'C(transmission)']\n",
      "102 ['age', 'km_driven', 'mileage', 'C(fuel)', 'C(owner)']\n",
      "103 ['age', 'km_driven', 'mileage', 'C(transmission)', 'C(owner)']\n",
      "104 ['age', 'km_driven', 'engine', 'C(fuel)', 'C(transmission)']\n",
      "105 ['age', 'km_driven', 'engine', 'C(fuel)', 'C(owner)']\n",
      "106 ['age', 'km_driven', 'engine', 'C(transmission)', 'C(owner)']\n",
      "107 ['age', 'km_driven', 'C(fuel)', 'C(transmission)', 'C(owner)']\n",
      "108 ['age', 'mileage', 'engine', 'C(fuel)', 'C(transmission)']\n",
      "109 ['age', 'mileage', 'engine', 'C(fuel)', 'C(owner)']\n",
      "110 ['age', 'mileage', 'engine', 'C(transmission)', 'C(owner)']\n",
      "111 ['age', 'mileage', 'C(fuel)', 'C(transmission)', 'C(owner)']\n",
      "112 ['age', 'engine', 'C(fuel)', 'C(transmission)', 'C(owner)']\n",
      "113 ['km_driven', 'mileage', 'engine', 'C(fuel)', 'C(transmission)']\n",
      "114 ['km_driven', 'mileage', 'engine', 'C(fuel)', 'C(owner)']\n",
      "115 ['km_driven', 'mileage', 'engine', 'C(transmission)', 'C(owner)']\n",
      "116 ['km_driven', 'mileage', 'C(fuel)', 'C(transmission)', 'C(owner)']\n",
      "117 ['km_driven', 'engine', 'C(fuel)', 'C(transmission)', 'C(owner)']\n",
      "118 ['mileage', 'engine', 'C(fuel)', 'C(transmission)', 'C(owner)']\n",
      "6\n",
      "119 ['age', 'km_driven', 'mileage', 'engine', 'C(fuel)', 'C(transmission)']\n",
      "120 ['age', 'km_driven', 'mileage', 'engine', 'C(fuel)', 'C(owner)']\n",
      "121 ['age', 'km_driven', 'mileage', 'engine', 'C(transmission)', 'C(owner)']\n",
      "122 ['age', 'km_driven', 'mileage', 'C(fuel)', 'C(transmission)', 'C(owner)']\n",
      "123 ['age', 'km_driven', 'engine', 'C(fuel)', 'C(transmission)', 'C(owner)']\n",
      "124 ['age', 'mileage', 'engine', 'C(fuel)', 'C(transmission)', 'C(owner)']\n",
      "125 ['km_driven', 'mileage', 'engine', 'C(fuel)', 'C(transmission)', 'C(owner)']\n",
      "7\n",
      "126 ['age', 'km_driven', 'mileage', 'engine', 'C(fuel)', 'C(transmission)', 'C(owner)']\n"
     ]
    }
   ],
   "source": [
    "iter = 1\n",
    "for i,s in enumerate(sub):\n",
    "    if len(s) != len(sub[i-1]) and i>1:\n",
    "        iter = iter+1\n",
    "        print(iter)\n",
    "    print(i,s)"
   ]
  },
  {
   "cell_type": "code",
   "execution_count": 53,
   "id": "8fb2adc7",
   "metadata": {},
   "outputs": [],
   "source": [
    "models = {}\n",
    "models['model']=[]\n",
    "models['iter']=[]\n",
    "models['adj_rsq'] = []\n",
    "models['AIC']=[]\n",
    "models['BIC']=[]\n",
    "iter = 1\n",
    "for i,s in enumerate(sub):\n",
    "    if len(s) != len(sub[i-1]) and i>1:\n",
    "        iter = iter+1\n",
    "    models['iter'].append(iter)\n",
    "    target = 'np.log(selling_price)~'\n",
    "    exp = target\n",
    "    exp = exp + '+ '.join(s)\n",
    "    model = smf.ols(exp,data=cars).fit()\n",
    "    models['model'].append(exp)\n",
    "    models['adj_rsq'].append(model.rsquared_adj)\n",
    "    y_sub = list(model.predict())\n",
    "    models['AIC'].append(model.aic)\n",
    "    models['BIC'].append(model.bic)"
   ]
  },
  {
   "cell_type": "markdown",
   "id": "025bbbed",
   "metadata": {},
   "source": [
    "### Finding pool of candidate models from our complete set of all possible combinations"
   ]
  },
  {
   "cell_type": "code",
   "execution_count": 74,
   "id": "d03a3dd7",
   "metadata": {},
   "outputs": [
    {
     "data": {
      "text/plain": [
       "128"
      ]
     },
     "execution_count": 74,
     "metadata": {},
     "output_type": "execute_result"
    }
   ],
   "source": [
    "2**7 # Total possible choice of linear models using seven predictors "
   ]
  },
  {
   "cell_type": "code",
   "execution_count": 59,
   "id": "bb8e2728",
   "metadata": {},
   "outputs": [
    {
     "data": {
      "text/html": [
       "<style  type=\"text/css\" >\n",
       "</style><table id=\"T_e00ea_\" ><thead>    <tr>        <th class=\"blank level0\" ></th>        <th class=\"col_heading level0 col0\" >model</th>        <th class=\"col_heading level0 col1\" >predictors</th>        <th class=\"col_heading level0 col2\" >adj_rsq</th>        <th class=\"col_heading level0 col3\" >AIC</th>        <th class=\"col_heading level0 col4\" >BIC</th>    </tr></thead><tbody>\n",
       "                <tr>\n",
       "                        <th id=\"T_e00ea_level0_row0\" class=\"row_heading level0 row0\" >5</th>\n",
       "                        <td id=\"T_e00ea_row0_col0\" class=\"data row0 col0\" >np.log(selling_price)~C(transmission)</td>\n",
       "                        <td id=\"T_e00ea_row0_col1\" class=\"data row0 col1\" >1</td>\n",
       "                        <td id=\"T_e00ea_row0_col2\" class=\"data row0 col2\" >0.250937</td>\n",
       "                        <td id=\"T_e00ea_row0_col3\" class=\"data row0 col3\" >16953.409540</td>\n",
       "                        <td id=\"T_e00ea_row0_col4\" class=\"data row0 col4\" >16967.336884</td>\n",
       "            </tr>\n",
       "            <tr>\n",
       "                        <th id=\"T_e00ea_level0_row1\" class=\"row_heading level0 row1\" >115</th>\n",
       "                        <td id=\"T_e00ea_row1_col0\" class=\"data row1 col0\" >np.log(selling_price)~km_driven+ mileage+ engine+ C(transmission)+ C(owner)</td>\n",
       "                        <td id=\"T_e00ea_row1_col1\" class=\"data row1 col1\" >5</td>\n",
       "                        <td id=\"T_e00ea_row1_col2\" class=\"data row1 col2\" >0.625652</td>\n",
       "                        <td id=\"T_e00ea_row1_col3\" class=\"data row1 col3\" >11538.333054</td>\n",
       "                        <td id=\"T_e00ea_row1_col4\" class=\"data row1 col4\" >11587.078760</td>\n",
       "            </tr>\n",
       "            <tr>\n",
       "                        <th id=\"T_e00ea_level0_row2\" class=\"row_heading level0 row2\" >98</th>\n",
       "                        <td id=\"T_e00ea_row2_col0\" class=\"data row2 col0\" >np.log(selling_price)~age+ km_driven+ mileage+ engine+ C(fuel)</td>\n",
       "                        <td id=\"T_e00ea_row2_col1\" class=\"data row2 col1\" >5</td>\n",
       "                        <td id=\"T_e00ea_row2_col2\" class=\"data row2 col2\" >0.756650</td>\n",
       "                        <td id=\"T_e00ea_row2_col3\" class=\"data row2 col3\" >8171.950020</td>\n",
       "                        <td id=\"T_e00ea_row2_col4\" class=\"data row2 col4\" >8213.732054</td>\n",
       "            </tr>\n",
       "            <tr>\n",
       "                        <th id=\"T_e00ea_level0_row3\" class=\"row_heading level0 row3\" >89</th>\n",
       "                        <td id=\"T_e00ea_row3_col0\" class=\"data row3 col0\" >np.log(selling_price)~km_driven+ engine+ C(fuel)+ C(transmission)</td>\n",
       "                        <td id=\"T_e00ea_row3_col1\" class=\"data row3 col1\" >4</td>\n",
       "                        <td id=\"T_e00ea_row3_col2\" class=\"data row3 col2\" >0.512773</td>\n",
       "                        <td id=\"T_e00ea_row3_col3\" class=\"data row3 col3\" >13595.656928</td>\n",
       "                        <td id=\"T_e00ea_row3_col4\" class=\"data row3 col4\" >13630.475289</td>\n",
       "            </tr>\n",
       "            <tr>\n",
       "                        <th id=\"T_e00ea_level0_row4\" class=\"row_heading level0 row4\" >102</th>\n",
       "                        <td id=\"T_e00ea_row4_col0\" class=\"data row4 col0\" >np.log(selling_price)~age+ km_driven+ mileage+ C(fuel)+ C(owner)</td>\n",
       "                        <td id=\"T_e00ea_row4_col1\" class=\"data row4 col1\" >5</td>\n",
       "                        <td id=\"T_e00ea_row4_col2\" class=\"data row4 col2\" >0.674908</td>\n",
       "                        <td id=\"T_e00ea_row4_col3\" class=\"data row4 col3\" >10435.956528</td>\n",
       "                        <td id=\"T_e00ea_row4_col4\" class=\"data row4 col4\" >10484.702234</td>\n",
       "            </tr>\n",
       "            <tr>\n",
       "                        <th id=\"T_e00ea_level0_row5\" class=\"row_heading level0 row5\" >15</th>\n",
       "                        <td id=\"T_e00ea_row5_col0\" class=\"data row5 col0\" >np.log(selling_price)~km_driven+ C(fuel)</td>\n",
       "                        <td id=\"T_e00ea_row5_col1\" class=\"data row5 col1\" >2</td>\n",
       "                        <td id=\"T_e00ea_row5_col2\" class=\"data row5 col2\" >0.221363</td>\n",
       "                        <td id=\"T_e00ea_row5_col3\" class=\"data row5 col3\" >17256.984031</td>\n",
       "                        <td id=\"T_e00ea_row5_col4\" class=\"data row5 col4\" >17277.875048</td>\n",
       "            </tr>\n",
       "            <tr>\n",
       "                        <th id=\"T_e00ea_level0_row6\" class=\"row_heading level0 row6\" >51</th>\n",
       "                        <td id=\"T_e00ea_row6_col0\" class=\"data row6 col0\" >np.log(selling_price)~km_driven+ C(fuel)+ C(owner)</td>\n",
       "                        <td id=\"T_e00ea_row6_col1\" class=\"data row6 col1\" >3</td>\n",
       "                        <td id=\"T_e00ea_row6_col2\" class=\"data row6 col2\" >0.322745</td>\n",
       "                        <td id=\"T_e00ea_row6_col3\" class=\"data row6 col3\" >16168.948068</td>\n",
       "                        <td id=\"T_e00ea_row6_col4\" class=\"data row6 col4\" >16203.766429</td>\n",
       "            </tr>\n",
       "            <tr>\n",
       "                        <th id=\"T_e00ea_level0_row7\" class=\"row_heading level0 row7\" >91</th>\n",
       "                        <td id=\"T_e00ea_row7_col0\" class=\"data row7 col0\" >np.log(selling_price)~km_driven+ engine+ C(transmission)+ C(owner)</td>\n",
       "                        <td id=\"T_e00ea_row7_col1\" class=\"data row7 col1\" >4</td>\n",
       "                        <td id=\"T_e00ea_row7_col2\" class=\"data row7 col2\" >0.557200</td>\n",
       "                        <td id=\"T_e00ea_row7_col3\" class=\"data row7 col3\" >12849.550075</td>\n",
       "                        <td id=\"T_e00ea_row7_col4\" class=\"data row7 col4\" >12891.332108</td>\n",
       "            </tr>\n",
       "            <tr>\n",
       "                        <th id=\"T_e00ea_level0_row8\" class=\"row_heading level0 row8\" >1</th>\n",
       "                        <td id=\"T_e00ea_row8_col0\" class=\"data row8 col0\" >np.log(selling_price)~km_driven</td>\n",
       "                        <td id=\"T_e00ea_row8_col1\" class=\"data row8 col1\" >1</td>\n",
       "                        <td id=\"T_e00ea_row8_col2\" class=\"data row8 col2\" >0.060602</td>\n",
       "                        <td id=\"T_e00ea_row8_col3\" class=\"data row8 col3\" >18722.627458</td>\n",
       "                        <td id=\"T_e00ea_row8_col4\" class=\"data row8 col4\" >18736.554802</td>\n",
       "            </tr>\n",
       "            <tr>\n",
       "                        <th id=\"T_e00ea_level0_row9\" class=\"row_heading level0 row9\" >105</th>\n",
       "                        <td id=\"T_e00ea_row9_col0\" class=\"data row9 col0\" >np.log(selling_price)~age+ km_driven+ engine+ C(fuel)+ C(owner)</td>\n",
       "                        <td id=\"T_e00ea_row9_col1\" class=\"data row9 col1\" >5</td>\n",
       "                        <td id=\"T_e00ea_row9_col2\" class=\"data row9 col2\" >0.758893</td>\n",
       "                        <td id=\"T_e00ea_row9_col3\" class=\"data row9 col3\" >8100.599878</td>\n",
       "                        <td id=\"T_e00ea_row9_col4\" class=\"data row9 col4\" >8149.345584</td>\n",
       "            </tr>\n",
       "    </tbody></table>"
      ],
      "text/plain": [
       "<pandas.io.formats.style.Styler at 0x7fb43bcf1d60>"
      ]
     },
     "execution_count": 59,
     "metadata": {},
     "output_type": "execute_result"
    }
   ],
   "source": [
    "df = pd.DataFrame(models)\n",
    "df = df.rename({'iter':'predictors'},axis='columns')\n",
    "\n",
    "df.sample(10).style"
   ]
  },
  {
   "cell_type": "code",
   "execution_count": 61,
   "id": "47d268e5",
   "metadata": {
    "scrolled": true
   },
   "outputs": [
    {
     "data": {
      "text/html": [
       "<div>\n",
       "<style scoped>\n",
       "    .dataframe tbody tr th:only-of-type {\n",
       "        vertical-align: middle;\n",
       "    }\n",
       "\n",
       "    .dataframe tbody tr th {\n",
       "        vertical-align: top;\n",
       "    }\n",
       "\n",
       "    .dataframe thead th {\n",
       "        text-align: right;\n",
       "    }\n",
       "</style>\n",
       "<table border=\"1\" class=\"dataframe\">\n",
       "  <thead>\n",
       "    <tr style=\"text-align: right;\">\n",
       "      <th></th>\n",
       "      <th>predictors</th>\n",
       "      <th>BIC</th>\n",
       "      <th>AIC</th>\n",
       "      <th>model</th>\n",
       "    </tr>\n",
       "  </thead>\n",
       "  <tbody>\n",
       "    <tr>\n",
       "      <th>0</th>\n",
       "      <td>1</td>\n",
       "      <td>13895.844502</td>\n",
       "      <td>13881.917158</td>\n",
       "      <td>np.log(selling_price)~age</td>\n",
       "    </tr>\n",
       "    <tr>\n",
       "      <th>1</th>\n",
       "      <td>2</td>\n",
       "      <td>8440.152105</td>\n",
       "      <td>13827.785237</td>\n",
       "      <td>np.log(selling_price)~age+ km_driven</td>\n",
       "    </tr>\n",
       "    <tr>\n",
       "      <th>2</th>\n",
       "      <td>3</td>\n",
       "      <td>7079.199816</td>\n",
       "      <td>12525.958051</td>\n",
       "      <td>np.log(selling_price)~age+ km_driven+ mileage</td>\n",
       "    </tr>\n",
       "    <tr>\n",
       "      <th>3</th>\n",
       "      <td>4</td>\n",
       "      <td>6777.202442</td>\n",
       "      <td>8221.092023</td>\n",
       "      <td>np.log(selling_price)~age+ km_driven+ mileage+...</td>\n",
       "    </tr>\n",
       "    <tr>\n",
       "      <th>4</th>\n",
       "      <td>5</td>\n",
       "      <td>6697.365880</td>\n",
       "      <td>8171.950020</td>\n",
       "      <td>np.log(selling_price)~age+ km_driven+ mileage+...</td>\n",
       "    </tr>\n",
       "    <tr>\n",
       "      <th>5</th>\n",
       "      <td>6</td>\n",
       "      <td>6643.346474</td>\n",
       "      <td>6643.142644</td>\n",
       "      <td>np.log(selling_price)~age+ km_driven+ mileage+...</td>\n",
       "    </tr>\n",
       "    <tr>\n",
       "      <th>6</th>\n",
       "      <td>7</td>\n",
       "      <td>6627.985986</td>\n",
       "      <td>6565.312935</td>\n",
       "      <td>np.log(selling_price)~age+ km_driven+ mileage+...</td>\n",
       "    </tr>\n",
       "  </tbody>\n",
       "</table>\n",
       "</div>"
      ],
      "text/plain": [
       "   predictors           BIC           AIC  \\\n",
       "0           1  13895.844502  13881.917158   \n",
       "1           2   8440.152105  13827.785237   \n",
       "2           3   7079.199816  12525.958051   \n",
       "3           4   6777.202442   8221.092023   \n",
       "4           5   6697.365880   8171.950020   \n",
       "5           6   6643.346474   6643.142644   \n",
       "6           7   6627.985986   6565.312935   \n",
       "\n",
       "                                               model  \n",
       "0                          np.log(selling_price)~age  \n",
       "1               np.log(selling_price)~age+ km_driven  \n",
       "2      np.log(selling_price)~age+ km_driven+ mileage  \n",
       "3  np.log(selling_price)~age+ km_driven+ mileage+...  \n",
       "4  np.log(selling_price)~age+ km_driven+ mileage+...  \n",
       "5  np.log(selling_price)~age+ km_driven+ mileage+...  \n",
       "6  np.log(selling_price)~age+ km_driven+ mileage+...  "
      ]
     },
     "execution_count": 61,
     "metadata": {},
     "output_type": "execute_result"
    }
   ],
   "source": [
    "df.groupby(['predictors'],as_index=False).agg({'BIC':'min','AIC':'first','model':'first'})"
   ]
  },
  {
   "cell_type": "markdown",
   "id": "103da411",
   "metadata": {},
   "source": [
    "#### Using BIC criteria"
   ]
  },
  {
   "cell_type": "code",
   "execution_count": 62,
   "id": "63f2ff56",
   "metadata": {},
   "outputs": [
    {
     "data": {
      "text/html": [
       "<style  type=\"text/css\" >\n",
       "</style><table id=\"T_dca55_\" ><thead>    <tr>        <th class=\"blank level0\" ></th>        <th class=\"col_heading level0 col0\" >model</th>        <th class=\"col_heading level0 col1\" >predictors</th>        <th class=\"col_heading level0 col2\" >adj_rsq</th>        <th class=\"col_heading level0 col3\" >AIC</th>        <th class=\"col_heading level0 col4\" >BIC</th>    </tr></thead><tbody>\n",
       "                <tr>\n",
       "                        <th id=\"T_dca55_level0_row0\" class=\"row_heading level0 row0\" >0</th>\n",
       "                        <td id=\"T_dca55_row0_col0\" class=\"data row0 col0\" >np.log(selling_price)~age</td>\n",
       "                        <td id=\"T_dca55_row0_col1\" class=\"data row0 col1\" >1</td>\n",
       "                        <td id=\"T_dca55_row0_col2\" class=\"data row0 col2\" >0.494399</td>\n",
       "                        <td id=\"T_dca55_row0_col3\" class=\"data row0 col3\" >13881.917158</td>\n",
       "                        <td id=\"T_dca55_row0_col4\" class=\"data row0 col4\" >13895.844502</td>\n",
       "            </tr>\n",
       "            <tr>\n",
       "                        <th id=\"T_dca55_level0_row1\" class=\"row_heading level0 row1\" >9</th>\n",
       "                        <td id=\"T_dca55_row1_col0\" class=\"data row1 col0\" >np.log(selling_price)~age+ engine</td>\n",
       "                        <td id=\"T_dca55_row1_col1\" class=\"data row1 col1\" >2</td>\n",
       "                        <td id=\"T_dca55_row1_col2\" class=\"data row1 col2\" >0.748729</td>\n",
       "                        <td id=\"T_dca55_row1_col3\" class=\"data row1 col3\" >8419.261088</td>\n",
       "                        <td id=\"T_dca55_row1_col4\" class=\"data row1 col4\" >8440.152105</td>\n",
       "            </tr>\n",
       "            <tr>\n",
       "                        <th id=\"T_dca55_level0_row2\" class=\"row_heading level0 row2\" >38</th>\n",
       "                        <td id=\"T_dca55_row2_col0\" class=\"data row2 col0\" >np.log(selling_price)~age+ engine+ C(transmission)</td>\n",
       "                        <td id=\"T_dca55_row2_col1\" class=\"data row2 col1\" >3</td>\n",
       "                        <td id=\"T_dca55_row2_col2\" class=\"data row2 col2\" >0.789108</td>\n",
       "                        <td id=\"T_dca55_row2_col3\" class=\"data row2 col3\" >7051.345127</td>\n",
       "                        <td id=\"T_dca55_row2_col4\" class=\"data row2 col4\" >7079.199816</td>\n",
       "            </tr>\n",
       "            <tr>\n",
       "                        <th id=\"T_dca55_level0_row3\" class=\"row_heading level0 row3\" >79</th>\n",
       "                        <td id=\"T_dca55_row3_col0\" class=\"data row3 col0\" >np.log(selling_price)~age+ engine+ C(fuel)+ C(transmission)</td>\n",
       "                        <td id=\"T_dca55_row3_col1\" class=\"data row3 col1\" >4</td>\n",
       "                        <td id=\"T_dca55_row3_col2\" class=\"data row3 col2\" >0.797310</td>\n",
       "                        <td id=\"T_dca55_row3_col3\" class=\"data row3 col3\" >6742.384080</td>\n",
       "                        <td id=\"T_dca55_row3_col4\" class=\"data row3 col4\" >6777.202442</td>\n",
       "            </tr>\n",
       "            <tr>\n",
       "                        <th id=\"T_dca55_level0_row4\" class=\"row_heading level0 row4\" >112</th>\n",
       "                        <td id=\"T_dca55_row4_col0\" class=\"data row4 col0\" >np.log(selling_price)~age+ engine+ C(fuel)+ C(transmission)+ C(owner)</td>\n",
       "                        <td id=\"T_dca55_row4_col1\" class=\"data row4 col1\" >5</td>\n",
       "                        <td id=\"T_dca55_row4_col2\" class=\"data row4 col2\" >0.799779</td>\n",
       "                        <td id=\"T_dca55_row4_col3\" class=\"data row4 col3\" >6648.620175</td>\n",
       "                        <td id=\"T_dca55_row4_col4\" class=\"data row4 col4\" >6697.365880</td>\n",
       "            </tr>\n",
       "            <tr>\n",
       "                        <th id=\"T_dca55_level0_row5\" class=\"row_heading level0 row5\" >123</th>\n",
       "                        <td id=\"T_dca55_row5_col0\" class=\"data row5 col0\" >np.log(selling_price)~age+ km_driven+ engine+ C(fuel)+ C(transmission)+ C(owner)</td>\n",
       "                        <td id=\"T_dca55_row5_col1\" class=\"data row5 col1\" >6</td>\n",
       "                        <td id=\"T_dca55_row5_col2\" class=\"data row5 col2\" >0.801361</td>\n",
       "                        <td id=\"T_dca55_row5_col3\" class=\"data row5 col3\" >6587.637096</td>\n",
       "                        <td id=\"T_dca55_row5_col4\" class=\"data row5 col4\" >6643.346474</td>\n",
       "            </tr>\n",
       "            <tr>\n",
       "                        <th id=\"T_dca55_level0_row6\" class=\"row_heading level0 row6\" >126</th>\n",
       "                        <td id=\"T_dca55_row6_col0\" class=\"data row6 col0\" >np.log(selling_price)~age+ km_driven+ mileage+ engine+ C(fuel)+ C(transmission)+ C(owner)</td>\n",
       "                        <td id=\"T_dca55_row6_col1\" class=\"data row6 col1\" >7</td>\n",
       "                        <td id=\"T_dca55_row6_col2\" class=\"data row6 col2\" >0.801953</td>\n",
       "                        <td id=\"T_dca55_row6_col3\" class=\"data row6 col3\" >6565.312935</td>\n",
       "                        <td id=\"T_dca55_row6_col4\" class=\"data row6 col4\" >6627.985986</td>\n",
       "            </tr>\n",
       "    </tbody></table>"
      ],
      "text/plain": [
       "<pandas.io.formats.style.Styler at 0x7fb40829dfa0>"
      ]
     },
     "execution_count": 62,
     "metadata": {},
     "output_type": "execute_result"
    }
   ],
   "source": [
    "df_BIC = df.loc[df.groupby(\"predictors\")[\"BIC\"].idxmin()]\n",
    "df_BIC.style"
   ]
  },
  {
   "cell_type": "code",
   "execution_count": 63,
   "id": "e47229ea",
   "metadata": {
    "scrolled": true
   },
   "outputs": [
    {
     "data": {
      "text/html": [
       "<div>\n",
       "<style scoped>\n",
       "    .dataframe tbody tr th:only-of-type {\n",
       "        vertical-align: middle;\n",
       "    }\n",
       "\n",
       "    .dataframe tbody tr th {\n",
       "        vertical-align: top;\n",
       "    }\n",
       "\n",
       "    .dataframe thead th {\n",
       "        text-align: right;\n",
       "    }\n",
       "</style>\n",
       "<table border=\"1\" class=\"dataframe\">\n",
       "  <thead>\n",
       "    <tr style=\"text-align: right;\">\n",
       "      <th></th>\n",
       "      <th>model</th>\n",
       "      <th>predictors</th>\n",
       "      <th>adj_rsq</th>\n",
       "      <th>AIC</th>\n",
       "      <th>BIC</th>\n",
       "    </tr>\n",
       "  </thead>\n",
       "  <tbody>\n",
       "    <tr>\n",
       "      <th>126</th>\n",
       "      <td>np.log(selling_price)~age+ km_driven+ mileage+...</td>\n",
       "      <td>7</td>\n",
       "      <td>0.801953</td>\n",
       "      <td>6565.312935</td>\n",
       "      <td>6627.985986</td>\n",
       "    </tr>\n",
       "  </tbody>\n",
       "</table>\n",
       "</div>"
      ],
      "text/plain": [
       "                                                 model  predictors   adj_rsq  \\\n",
       "126  np.log(selling_price)~age+ km_driven+ mileage+...           7  0.801953   \n",
       "\n",
       "             AIC          BIC  \n",
       "126  6565.312935  6627.985986  "
      ]
     },
     "execution_count": 63,
     "metadata": {},
     "output_type": "execute_result"
    }
   ],
   "source": [
    "df_BIC[df_BIC['BIC'] == min(df_BIC['BIC'])]"
   ]
  },
  {
   "cell_type": "markdown",
   "id": "387ea2b1",
   "metadata": {},
   "source": [
    "#### Using AIC criteria"
   ]
  },
  {
   "cell_type": "code",
   "execution_count": 64,
   "id": "fe7b5a59",
   "metadata": {},
   "outputs": [
    {
     "data": {
      "text/html": [
       "<style  type=\"text/css\" >\n",
       "</style><table id=\"T_1d3a6_\" ><thead>    <tr>        <th class=\"blank level0\" ></th>        <th class=\"col_heading level0 col0\" >model</th>        <th class=\"col_heading level0 col1\" >predictors</th>        <th class=\"col_heading level0 col2\" >adj_rsq</th>        <th class=\"col_heading level0 col3\" >AIC</th>        <th class=\"col_heading level0 col4\" >BIC</th>    </tr></thead><tbody>\n",
       "                <tr>\n",
       "                        <th id=\"T_1d3a6_level0_row0\" class=\"row_heading level0 row0\" >0</th>\n",
       "                        <td id=\"T_1d3a6_row0_col0\" class=\"data row0 col0\" >np.log(selling_price)~age</td>\n",
       "                        <td id=\"T_1d3a6_row0_col1\" class=\"data row0 col1\" >1</td>\n",
       "                        <td id=\"T_1d3a6_row0_col2\" class=\"data row0 col2\" >0.494399</td>\n",
       "                        <td id=\"T_1d3a6_row0_col3\" class=\"data row0 col3\" >13881.917158</td>\n",
       "                        <td id=\"T_1d3a6_row0_col4\" class=\"data row0 col4\" >13895.844502</td>\n",
       "            </tr>\n",
       "            <tr>\n",
       "                        <th id=\"T_1d3a6_level0_row1\" class=\"row_heading level0 row1\" >9</th>\n",
       "                        <td id=\"T_1d3a6_row1_col0\" class=\"data row1 col0\" >np.log(selling_price)~age+ engine</td>\n",
       "                        <td id=\"T_1d3a6_row1_col1\" class=\"data row1 col1\" >2</td>\n",
       "                        <td id=\"T_1d3a6_row1_col2\" class=\"data row1 col2\" >0.748729</td>\n",
       "                        <td id=\"T_1d3a6_row1_col3\" class=\"data row1 col3\" >8419.261088</td>\n",
       "                        <td id=\"T_1d3a6_row1_col4\" class=\"data row1 col4\" >8440.152105</td>\n",
       "            </tr>\n",
       "            <tr>\n",
       "                        <th id=\"T_1d3a6_level0_row2\" class=\"row_heading level0 row2\" >38</th>\n",
       "                        <td id=\"T_1d3a6_row2_col0\" class=\"data row2 col0\" >np.log(selling_price)~age+ engine+ C(transmission)</td>\n",
       "                        <td id=\"T_1d3a6_row2_col1\" class=\"data row2 col1\" >3</td>\n",
       "                        <td id=\"T_1d3a6_row2_col2\" class=\"data row2 col2\" >0.789108</td>\n",
       "                        <td id=\"T_1d3a6_row2_col3\" class=\"data row2 col3\" >7051.345127</td>\n",
       "                        <td id=\"T_1d3a6_row2_col4\" class=\"data row2 col4\" >7079.199816</td>\n",
       "            </tr>\n",
       "            <tr>\n",
       "                        <th id=\"T_1d3a6_level0_row3\" class=\"row_heading level0 row3\" >79</th>\n",
       "                        <td id=\"T_1d3a6_row3_col0\" class=\"data row3 col0\" >np.log(selling_price)~age+ engine+ C(fuel)+ C(transmission)</td>\n",
       "                        <td id=\"T_1d3a6_row3_col1\" class=\"data row3 col1\" >4</td>\n",
       "                        <td id=\"T_1d3a6_row3_col2\" class=\"data row3 col2\" >0.797310</td>\n",
       "                        <td id=\"T_1d3a6_row3_col3\" class=\"data row3 col3\" >6742.384080</td>\n",
       "                        <td id=\"T_1d3a6_row3_col4\" class=\"data row3 col4\" >6777.202442</td>\n",
       "            </tr>\n",
       "            <tr>\n",
       "                        <th id=\"T_1d3a6_level0_row4\" class=\"row_heading level0 row4\" >112</th>\n",
       "                        <td id=\"T_1d3a6_row4_col0\" class=\"data row4 col0\" >np.log(selling_price)~age+ engine+ C(fuel)+ C(transmission)+ C(owner)</td>\n",
       "                        <td id=\"T_1d3a6_row4_col1\" class=\"data row4 col1\" >5</td>\n",
       "                        <td id=\"T_1d3a6_row4_col2\" class=\"data row4 col2\" >0.799779</td>\n",
       "                        <td id=\"T_1d3a6_row4_col3\" class=\"data row4 col3\" >6648.620175</td>\n",
       "                        <td id=\"T_1d3a6_row4_col4\" class=\"data row4 col4\" >6697.365880</td>\n",
       "            </tr>\n",
       "            <tr>\n",
       "                        <th id=\"T_1d3a6_level0_row5\" class=\"row_heading level0 row5\" >123</th>\n",
       "                        <td id=\"T_1d3a6_row5_col0\" class=\"data row5 col0\" >np.log(selling_price)~age+ km_driven+ engine+ C(fuel)+ C(transmission)+ C(owner)</td>\n",
       "                        <td id=\"T_1d3a6_row5_col1\" class=\"data row5 col1\" >6</td>\n",
       "                        <td id=\"T_1d3a6_row5_col2\" class=\"data row5 col2\" >0.801361</td>\n",
       "                        <td id=\"T_1d3a6_row5_col3\" class=\"data row5 col3\" >6587.637096</td>\n",
       "                        <td id=\"T_1d3a6_row5_col4\" class=\"data row5 col4\" >6643.346474</td>\n",
       "            </tr>\n",
       "            <tr>\n",
       "                        <th id=\"T_1d3a6_level0_row6\" class=\"row_heading level0 row6\" >126</th>\n",
       "                        <td id=\"T_1d3a6_row6_col0\" class=\"data row6 col0\" >np.log(selling_price)~age+ km_driven+ mileage+ engine+ C(fuel)+ C(transmission)+ C(owner)</td>\n",
       "                        <td id=\"T_1d3a6_row6_col1\" class=\"data row6 col1\" >7</td>\n",
       "                        <td id=\"T_1d3a6_row6_col2\" class=\"data row6 col2\" >0.801953</td>\n",
       "                        <td id=\"T_1d3a6_row6_col3\" class=\"data row6 col3\" >6565.312935</td>\n",
       "                        <td id=\"T_1d3a6_row6_col4\" class=\"data row6 col4\" >6627.985986</td>\n",
       "            </tr>\n",
       "    </tbody></table>"
      ],
      "text/plain": [
       "<pandas.io.formats.style.Styler at 0x7fb43bcf1700>"
      ]
     },
     "execution_count": 64,
     "metadata": {},
     "output_type": "execute_result"
    }
   ],
   "source": [
    "df_AIC = df.loc[df.groupby(\"predictors\")[\"AIC\"].idxmin()]\n",
    "df_AIC.style"
   ]
  },
  {
   "cell_type": "code",
   "execution_count": 65,
   "id": "85346421",
   "metadata": {
    "scrolled": false
   },
   "outputs": [
    {
     "data": {
      "text/html": [
       "<div>\n",
       "<style scoped>\n",
       "    .dataframe tbody tr th:only-of-type {\n",
       "        vertical-align: middle;\n",
       "    }\n",
       "\n",
       "    .dataframe tbody tr th {\n",
       "        vertical-align: top;\n",
       "    }\n",
       "\n",
       "    .dataframe thead th {\n",
       "        text-align: right;\n",
       "    }\n",
       "</style>\n",
       "<table border=\"1\" class=\"dataframe\">\n",
       "  <thead>\n",
       "    <tr style=\"text-align: right;\">\n",
       "      <th></th>\n",
       "      <th>model</th>\n",
       "      <th>predictors</th>\n",
       "      <th>adj_rsq</th>\n",
       "      <th>AIC</th>\n",
       "      <th>BIC</th>\n",
       "    </tr>\n",
       "  </thead>\n",
       "  <tbody>\n",
       "    <tr>\n",
       "      <th>126</th>\n",
       "      <td>np.log(selling_price)~age+ km_driven+ mileage+...</td>\n",
       "      <td>7</td>\n",
       "      <td>0.801953</td>\n",
       "      <td>6565.312935</td>\n",
       "      <td>6627.985986</td>\n",
       "    </tr>\n",
       "  </tbody>\n",
       "</table>\n",
       "</div>"
      ],
      "text/plain": [
       "                                                 model  predictors   adj_rsq  \\\n",
       "126  np.log(selling_price)~age+ km_driven+ mileage+...           7  0.801953   \n",
       "\n",
       "             AIC          BIC  \n",
       "126  6565.312935  6627.985986  "
      ]
     },
     "execution_count": 65,
     "metadata": {},
     "output_type": "execute_result"
    }
   ],
   "source": [
    "df_AIC[df_AIC['AIC'] == min(df_AIC['AIC'])]"
   ]
  },
  {
   "cell_type": "markdown",
   "id": "52ab1fd5",
   "metadata": {},
   "source": [
    "#### Using Adjusted R square"
   ]
  },
  {
   "cell_type": "code",
   "execution_count": 71,
   "id": "326cc424",
   "metadata": {
    "scrolled": true
   },
   "outputs": [
    {
     "data": {
      "text/html": [
       "<style  type=\"text/css\" >\n",
       "</style><table id=\"T_d4ff5_\" ><thead>    <tr>        <th class=\"blank level0\" ></th>        <th class=\"col_heading level0 col0\" >model</th>        <th class=\"col_heading level0 col1\" >predictors</th>        <th class=\"col_heading level0 col2\" >adj_rsq</th>        <th class=\"col_heading level0 col3\" >AIC</th>        <th class=\"col_heading level0 col4\" >BIC</th>    </tr></thead><tbody>\n",
       "                <tr>\n",
       "                        <th id=\"T_d4ff5_level0_row0\" class=\"row_heading level0 row0\" >0</th>\n",
       "                        <td id=\"T_d4ff5_row0_col0\" class=\"data row0 col0\" >np.log(selling_price)~age</td>\n",
       "                        <td id=\"T_d4ff5_row0_col1\" class=\"data row0 col1\" >1</td>\n",
       "                        <td id=\"T_d4ff5_row0_col2\" class=\"data row0 col2\" >0.494399</td>\n",
       "                        <td id=\"T_d4ff5_row0_col3\" class=\"data row0 col3\" >13881.917158</td>\n",
       "                        <td id=\"T_d4ff5_row0_col4\" class=\"data row0 col4\" >13895.844502</td>\n",
       "            </tr>\n",
       "            <tr>\n",
       "                        <th id=\"T_d4ff5_level0_row1\" class=\"row_heading level0 row1\" >9</th>\n",
       "                        <td id=\"T_d4ff5_row1_col0\" class=\"data row1 col0\" >np.log(selling_price)~age+ engine</td>\n",
       "                        <td id=\"T_d4ff5_row1_col1\" class=\"data row1 col1\" >2</td>\n",
       "                        <td id=\"T_d4ff5_row1_col2\" class=\"data row1 col2\" >0.748729</td>\n",
       "                        <td id=\"T_d4ff5_row1_col3\" class=\"data row1 col3\" >8419.261088</td>\n",
       "                        <td id=\"T_d4ff5_row1_col4\" class=\"data row1 col4\" >8440.152105</td>\n",
       "            </tr>\n",
       "            <tr>\n",
       "                        <th id=\"T_d4ff5_level0_row2\" class=\"row_heading level0 row2\" >38</th>\n",
       "                        <td id=\"T_d4ff5_row2_col0\" class=\"data row2 col0\" >np.log(selling_price)~age+ engine+ C(transmission)</td>\n",
       "                        <td id=\"T_d4ff5_row2_col1\" class=\"data row2 col1\" >3</td>\n",
       "                        <td id=\"T_d4ff5_row2_col2\" class=\"data row2 col2\" >0.789108</td>\n",
       "                        <td id=\"T_d4ff5_row2_col3\" class=\"data row2 col3\" >7051.345127</td>\n",
       "                        <td id=\"T_d4ff5_row2_col4\" class=\"data row2 col4\" >7079.199816</td>\n",
       "            </tr>\n",
       "            <tr>\n",
       "                        <th id=\"T_d4ff5_level0_row3\" class=\"row_heading level0 row3\" >79</th>\n",
       "                        <td id=\"T_d4ff5_row3_col0\" class=\"data row3 col0\" >np.log(selling_price)~age+ engine+ C(fuel)+ C(transmission)</td>\n",
       "                        <td id=\"T_d4ff5_row3_col1\" class=\"data row3 col1\" >4</td>\n",
       "                        <td id=\"T_d4ff5_row3_col2\" class=\"data row3 col2\" >0.797310</td>\n",
       "                        <td id=\"T_d4ff5_row3_col3\" class=\"data row3 col3\" >6742.384080</td>\n",
       "                        <td id=\"T_d4ff5_row3_col4\" class=\"data row3 col4\" >6777.202442</td>\n",
       "            </tr>\n",
       "            <tr>\n",
       "                        <th id=\"T_d4ff5_level0_row4\" class=\"row_heading level0 row4\" >112</th>\n",
       "                        <td id=\"T_d4ff5_row4_col0\" class=\"data row4 col0\" >np.log(selling_price)~age+ engine+ C(fuel)+ C(transmission)+ C(owner)</td>\n",
       "                        <td id=\"T_d4ff5_row4_col1\" class=\"data row4 col1\" >5</td>\n",
       "                        <td id=\"T_d4ff5_row4_col2\" class=\"data row4 col2\" >0.799779</td>\n",
       "                        <td id=\"T_d4ff5_row4_col3\" class=\"data row4 col3\" >6648.620175</td>\n",
       "                        <td id=\"T_d4ff5_row4_col4\" class=\"data row4 col4\" >6697.365880</td>\n",
       "            </tr>\n",
       "            <tr>\n",
       "                        <th id=\"T_d4ff5_level0_row5\" class=\"row_heading level0 row5\" >123</th>\n",
       "                        <td id=\"T_d4ff5_row5_col0\" class=\"data row5 col0\" >np.log(selling_price)~age+ km_driven+ engine+ C(fuel)+ C(transmission)+ C(owner)</td>\n",
       "                        <td id=\"T_d4ff5_row5_col1\" class=\"data row5 col1\" >6</td>\n",
       "                        <td id=\"T_d4ff5_row5_col2\" class=\"data row5 col2\" >0.801361</td>\n",
       "                        <td id=\"T_d4ff5_row5_col3\" class=\"data row5 col3\" >6587.637096</td>\n",
       "                        <td id=\"T_d4ff5_row5_col4\" class=\"data row5 col4\" >6643.346474</td>\n",
       "            </tr>\n",
       "            <tr>\n",
       "                        <th id=\"T_d4ff5_level0_row6\" class=\"row_heading level0 row6\" >126</th>\n",
       "                        <td id=\"T_d4ff5_row6_col0\" class=\"data row6 col0\" >np.log(selling_price)~age+ km_driven+ mileage+ engine+ C(fuel)+ C(transmission)+ C(owner)</td>\n",
       "                        <td id=\"T_d4ff5_row6_col1\" class=\"data row6 col1\" >7</td>\n",
       "                        <td id=\"T_d4ff5_row6_col2\" class=\"data row6 col2\" >0.801953</td>\n",
       "                        <td id=\"T_d4ff5_row6_col3\" class=\"data row6 col3\" >6565.312935</td>\n",
       "                        <td id=\"T_d4ff5_row6_col4\" class=\"data row6 col4\" >6627.985986</td>\n",
       "            </tr>\n",
       "    </tbody></table>"
      ],
      "text/plain": [
       "<pandas.io.formats.style.Styler at 0x7fb4082a7cd0>"
      ]
     },
     "execution_count": 71,
     "metadata": {},
     "output_type": "execute_result"
    }
   ],
   "source": [
    "df_r2 = df.loc[df.groupby(\"predictors\")['adj_rsq'].idxmax()]\n",
    "df_r2.style"
   ]
  },
  {
   "cell_type": "code",
   "execution_count": 69,
   "id": "699ffb35",
   "metadata": {},
   "outputs": [
    {
     "data": {
      "text/html": [
       "<style  type=\"text/css\" >\n",
       "</style><table id=\"T_ca208_\" ><thead>    <tr>        <th class=\"blank level0\" ></th>        <th class=\"col_heading level0 col0\" >model</th>        <th class=\"col_heading level0 col1\" >predictors</th>        <th class=\"col_heading level0 col2\" >adj_rsq</th>        <th class=\"col_heading level0 col3\" >AIC</th>        <th class=\"col_heading level0 col4\" >BIC</th>    </tr></thead><tbody>\n",
       "                <tr>\n",
       "                        <th id=\"T_ca208_level0_row0\" class=\"row_heading level0 row0\" >2</th>\n",
       "                        <td id=\"T_ca208_row0_col0\" class=\"data row0 col0\" >np.log(selling_price)~mileage</td>\n",
       "                        <td id=\"T_ca208_row0_col1\" class=\"data row0 col1\" >1</td>\n",
       "                        <td id=\"T_ca208_row0_col2\" class=\"data row0 col2\" >0.000966</td>\n",
       "                        <td id=\"T_ca208_row0_col3\" class=\"data row0 col3\" >19203.574441</td>\n",
       "                        <td id=\"T_ca208_row0_col4\" class=\"data row0 col4\" >19217.501785</td>\n",
       "            </tr>\n",
       "            <tr>\n",
       "                        <th id=\"T_ca208_level0_row1\" class=\"row_heading level0 row1\" >13</th>\n",
       "                        <td id=\"T_ca208_row1_col0\" class=\"data row1 col0\" >np.log(selling_price)~km_driven+ mileage</td>\n",
       "                        <td id=\"T_ca208_row1_col1\" class=\"data row1 col1\" >2</td>\n",
       "                        <td id=\"T_ca208_row1_col2\" class=\"data row1 col2\" >0.066421</td>\n",
       "                        <td id=\"T_ca208_row1_col3\" class=\"data row1 col3\" >18675.073178</td>\n",
       "                        <td id=\"T_ca208_row1_col4\" class=\"data row1 col4\" >18695.964195</td>\n",
       "            </tr>\n",
       "            <tr>\n",
       "                        <th id=\"T_ca208_level0_row2\" class=\"row_heading level0 row2\" >46</th>\n",
       "                        <td id=\"T_ca208_row2_col0\" class=\"data row2 col0\" >np.log(selling_price)~km_driven+ mileage+ C(owner)</td>\n",
       "                        <td id=\"T_ca208_row2_col1\" class=\"data row2 col1\" >3</td>\n",
       "                        <td id=\"T_ca208_row2_col2\" class=\"data row2 col2\" >0.191167</td>\n",
       "                        <td id=\"T_ca208_row2_col3\" class=\"data row2 col3\" >17556.284868</td>\n",
       "                        <td id=\"T_ca208_row2_col4\" class=\"data row2 col4\" >17591.103229</td>\n",
       "            </tr>\n",
       "            <tr>\n",
       "                        <th id=\"T_ca208_level0_row3\" class=\"row_heading level0 row3\" >87</th>\n",
       "                        <td id=\"T_ca208_row3_col0\" class=\"data row3 col0\" >np.log(selling_price)~km_driven+ mileage+ C(fuel)+ C(owner)</td>\n",
       "                        <td id=\"T_ca208_row3_col1\" class=\"data row3 col1\" >4</td>\n",
       "                        <td id=\"T_ca208_row3_col2\" class=\"data row3 col2\" >0.351310</td>\n",
       "                        <td id=\"T_ca208_row3_col3\" class=\"data row3 col3\" >15833.219453</td>\n",
       "                        <td id=\"T_ca208_row3_col4\" class=\"data row3 col4\" >15875.001487</td>\n",
       "            </tr>\n",
       "            <tr>\n",
       "                        <th id=\"T_ca208_level0_row4\" class=\"row_heading level0 row4\" >116</th>\n",
       "                        <td id=\"T_ca208_row4_col0\" class=\"data row4 col0\" >np.log(selling_price)~km_driven+ mileage+ C(fuel)+ C(transmission)+ C(owner)</td>\n",
       "                        <td id=\"T_ca208_row4_col1\" class=\"data row4 col1\" >5</td>\n",
       "                        <td id=\"T_ca208_row4_col2\" class=\"data row4 col2\" >0.502933</td>\n",
       "                        <td id=\"T_ca208_row4_col3\" class=\"data row4 col3\" >13753.904951</td>\n",
       "                        <td id=\"T_ca208_row4_col4\" class=\"data row4 col4\" >13802.650657</td>\n",
       "            </tr>\n",
       "            <tr>\n",
       "                        <th id=\"T_ca208_level0_row5\" class=\"row_heading level0 row5\" >125</th>\n",
       "                        <td id=\"T_ca208_row5_col0\" class=\"data row5 col0\" >np.log(selling_price)~km_driven+ mileage+ engine+ C(fuel)+ C(transmission)+ C(owner)</td>\n",
       "                        <td id=\"T_ca208_row5_col1\" class=\"data row5 col1\" >6</td>\n",
       "                        <td id=\"T_ca208_row5_col2\" class=\"data row5 col2\" >0.627333</td>\n",
       "                        <td id=\"T_ca208_row5_col3\" class=\"data row5 col3\" >11504.163381</td>\n",
       "                        <td id=\"T_ca208_row5_col4\" class=\"data row5 col4\" >11559.872759</td>\n",
       "            </tr>\n",
       "            <tr>\n",
       "                        <th id=\"T_ca208_level0_row6\" class=\"row_heading level0 row6\" >126</th>\n",
       "                        <td id=\"T_ca208_row6_col0\" class=\"data row6 col0\" >np.log(selling_price)~age+ km_driven+ mileage+ engine+ C(fuel)+ C(transmission)+ C(owner)</td>\n",
       "                        <td id=\"T_ca208_row6_col1\" class=\"data row6 col1\" >7</td>\n",
       "                        <td id=\"T_ca208_row6_col2\" class=\"data row6 col2\" >0.801953</td>\n",
       "                        <td id=\"T_ca208_row6_col3\" class=\"data row6 col3\" >6565.312935</td>\n",
       "                        <td id=\"T_ca208_row6_col4\" class=\"data row6 col4\" >6627.985986</td>\n",
       "            </tr>\n",
       "    </tbody></table>"
      ],
      "text/plain": [
       "<pandas.io.formats.style.Styler at 0x7fb43bcf1040>"
      ]
     },
     "execution_count": 69,
     "metadata": {},
     "output_type": "execute_result"
    }
   ],
   "source": [
    "df_r2.style"
   ]
  },
  {
   "cell_type": "markdown",
   "id": "ff088c80",
   "metadata": {},
   "source": [
    "## FINAL MODEL OF CHOICE"
   ]
  },
  {
   "cell_type": "code",
   "execution_count": 67,
   "id": "d1141bb6",
   "metadata": {
    "scrolled": true
   },
   "outputs": [
    {
     "data": {
      "text/html": [
       "<div>\n",
       "<style scoped>\n",
       "    .dataframe tbody tr th:only-of-type {\n",
       "        vertical-align: middle;\n",
       "    }\n",
       "\n",
       "    .dataframe tbody tr th {\n",
       "        vertical-align: top;\n",
       "    }\n",
       "\n",
       "    .dataframe thead th {\n",
       "        text-align: right;\n",
       "    }\n",
       "</style>\n",
       "<table border=\"1\" class=\"dataframe\">\n",
       "  <thead>\n",
       "    <tr style=\"text-align: right;\">\n",
       "      <th></th>\n",
       "      <th>model</th>\n",
       "      <th>predictors</th>\n",
       "      <th>adj_rsq</th>\n",
       "      <th>AIC</th>\n",
       "      <th>BIC</th>\n",
       "    </tr>\n",
       "  </thead>\n",
       "  <tbody>\n",
       "    <tr>\n",
       "      <th>126</th>\n",
       "      <td>np.log(selling_price)~age+ km_driven+ mileage+...</td>\n",
       "      <td>7</td>\n",
       "      <td>0.801953</td>\n",
       "      <td>6565.312935</td>\n",
       "      <td>6627.985986</td>\n",
       "    </tr>\n",
       "  </tbody>\n",
       "</table>\n",
       "</div>"
      ],
      "text/plain": [
       "                                                 model  predictors   adj_rsq  \\\n",
       "126  np.log(selling_price)~age+ km_driven+ mileage+...           7  0.801953   \n",
       "\n",
       "             AIC          BIC  \n",
       "126  6565.312935  6627.985986  "
      ]
     },
     "execution_count": 67,
     "metadata": {},
     "output_type": "execute_result"
    }
   ],
   "source": [
    "df_r2[df_r2['adj_rsq'] == max(df_r2['adj_rsq'])]"
   ]
  }
 ],
 "metadata": {
  "kernelspec": {
   "display_name": "Python 3 (ipykernel)",
   "language": "python",
   "name": "python3"
  },
  "language_info": {
   "codemirror_mode": {
    "name": "ipython",
    "version": 3
   },
   "file_extension": ".py",
   "mimetype": "text/x-python",
   "name": "python",
   "nbconvert_exporter": "python",
   "pygments_lexer": "ipython3",
   "version": "3.8.11"
  }
 },
 "nbformat": 4,
 "nbformat_minor": 5
}
