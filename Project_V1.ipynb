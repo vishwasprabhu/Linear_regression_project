{
 "cells": [
  {
   "cell_type": "code",
   "execution_count": 1,
   "id": "a0be4880",
   "metadata": {},
   "outputs": [],
   "source": [
    "import matplotlib.pyplot as plt \n",
    "import pandas as pd\n",
    "import numpy as np\n",
    "import statsmodels.api as sm\n",
    "import statsmodels.formula.api as smf"
   ]
  },
  {
   "cell_type": "markdown",
   "id": "0dc55419",
   "metadata": {},
   "source": [
    "# Data Cleaning"
   ]
  },
  {
   "cell_type": "code",
   "execution_count": 2,
   "id": "8f5c6c46",
   "metadata": {},
   "outputs": [],
   "source": [
    "carsdata=pd.read_csv('Car details v3.csv')"
   ]
  },
  {
   "cell_type": "code",
   "execution_count": 3,
   "id": "8ffaf9cc",
   "metadata": {},
   "outputs": [
    {
     "name": "stdout",
     "output_type": "stream",
     "text": [
      "<class 'pandas.core.frame.DataFrame'>\n",
      "RangeIndex: 8128 entries, 0 to 8127\n",
      "Data columns (total 13 columns):\n",
      " #   Column         Non-Null Count  Dtype  \n",
      "---  ------         --------------  -----  \n",
      " 0   name           8128 non-null   object \n",
      " 1   year           8128 non-null   int64  \n",
      " 2   selling_price  8128 non-null   int64  \n",
      " 3   km_driven      8128 non-null   int64  \n",
      " 4   fuel           8128 non-null   object \n",
      " 5   seller_type    8128 non-null   object \n",
      " 6   transmission   8128 non-null   object \n",
      " 7   owner          8128 non-null   object \n",
      " 8   mileage        7907 non-null   object \n",
      " 9   engine         7907 non-null   object \n",
      " 10  max_power      7913 non-null   object \n",
      " 11  torque         7906 non-null   object \n",
      " 12  seats          7907 non-null   float64\n",
      "dtypes: float64(1), int64(3), object(9)\n",
      "memory usage: 825.6+ KB\n"
     ]
    }
   ],
   "source": [
    "carsdata.info()"
   ]
  },
  {
   "cell_type": "code",
   "execution_count": 4,
   "id": "77488401",
   "metadata": {},
   "outputs": [],
   "source": [
    "#We will use 'selling price', 'year(age)', 'km_driven', 'fuel', 'transmission', 'owner', 'mileage', 'engine'"
   ]
  },
  {
   "cell_type": "code",
   "execution_count": 5,
   "id": "45243fc7",
   "metadata": {},
   "outputs": [],
   "source": [
    "#target variable\n",
    "carsdata['selling_price'] = carsdata['selling_price'] / 1000  #change $ to 1k$"
   ]
  },
  {
   "cell_type": "code",
   "execution_count": 6,
   "id": "9d7883df",
   "metadata": {},
   "outputs": [],
   "source": [
    "carsdata['age'] = 2020 - carsdata['year']"
   ]
  },
  {
   "cell_type": "code",
   "execution_count": 7,
   "id": "48cf33fa",
   "metadata": {},
   "outputs": [
    {
     "data": {
      "text/plain": [
       "0       145500\n",
       "1       120000\n",
       "2       140000\n",
       "3       127000\n",
       "4       120000\n",
       "         ...  \n",
       "8123    110000\n",
       "8124    119000\n",
       "8125    120000\n",
       "8126     25000\n",
       "8127     25000\n",
       "Name: km_driven, Length: 8128, dtype: int64"
      ]
     },
     "execution_count": 7,
     "metadata": {},
     "output_type": "execute_result"
    }
   ],
   "source": [
    "carsdata['km_driven'] #looks good"
   ]
  },
  {
   "cell_type": "code",
   "execution_count": 8,
   "id": "a95273d3",
   "metadata": {},
   "outputs": [
    {
     "data": {
      "text/plain": [
       "Diesel    4402\n",
       "Petrol    3631\n",
       "CNG         57\n",
       "LPG         38\n",
       "Name: fuel, dtype: int64"
      ]
     },
     "execution_count": 8,
     "metadata": {},
     "output_type": "execute_result"
    }
   ],
   "source": [
    "carsdata['fuel'].value_counts()"
   ]
  },
  {
   "cell_type": "code",
   "execution_count": 9,
   "id": "010925f7",
   "metadata": {},
   "outputs": [
    {
     "data": {
      "text/plain": [
       "Diesel    4402\n",
       "Petrol    3631\n",
       "Name: fuel, dtype: int64"
      ]
     },
     "execution_count": 9,
     "metadata": {},
     "output_type": "execute_result"
    }
   ],
   "source": [
    "carsdata.drop(carsdata[carsdata['fuel'] == 'CNG'].index, axis= 0, inplace=True)\n",
    "carsdata.drop(carsdata[carsdata['fuel'] == 'LPG'].index, axis= 0, inplace=True)\n",
    "carsdata['fuel'].value_counts()"
   ]
  },
  {
   "cell_type": "code",
   "execution_count": 10,
   "id": "5693a00f",
   "metadata": {},
   "outputs": [
    {
     "data": {
      "text/plain": [
       "Manual       6983\n",
       "Automatic    1050\n",
       "Name: transmission, dtype: int64"
      ]
     },
     "execution_count": 10,
     "metadata": {},
     "output_type": "execute_result"
    }
   ],
   "source": [
    "carsdata['transmission'].value_counts()  #looks good"
   ]
  },
  {
   "cell_type": "code",
   "execution_count": 11,
   "id": "646ec14d",
   "metadata": {},
   "outputs": [
    {
     "data": {
      "text/plain": [
       "First Owner             5238\n",
       "Second Owner            2073\n",
       "Third Owner              547\n",
       "Fourth & Above Owner     170\n",
       "Test Drive Car             5\n",
       "Name: owner, dtype: int64"
      ]
     },
     "execution_count": 11,
     "metadata": {},
     "output_type": "execute_result"
    }
   ],
   "source": [
    "carsdata['owner'].value_counts()  "
   ]
  },
  {
   "cell_type": "code",
   "execution_count": 12,
   "id": "b1f272be",
   "metadata": {},
   "outputs": [
    {
     "data": {
      "text/plain": [
       "First Owner            5238\n",
       "Second Owner           2073\n",
       "Third & Above Owner     717\n",
       "Name: owner, dtype: int64"
      ]
     },
     "execution_count": 12,
     "metadata": {},
     "output_type": "execute_result"
    }
   ],
   "source": [
    "carsdata.drop(carsdata[carsdata['owner'] == 'Test Drive Car'].index, axis= 0, inplace=True)\n",
    "carsdata['owner'] = carsdata['owner'].replace(['Third Owner', 'Fourth & Above Owner'], 'Third & Above Owner')\n",
    "carsdata['owner'].value_counts() "
   ]
  },
  {
   "cell_type": "code",
   "execution_count": 13,
   "id": "21530a1a",
   "metadata": {},
   "outputs": [
    {
     "data": {
      "text/plain": [
       "18.9 kmpl     225\n",
       "19.7 kmpl     173\n",
       "18.6 kmpl     164\n",
       "21.1 kmpl     157\n",
       "17.0 kmpl     133\n",
       "             ... \n",
       "16.73 kmpl      1\n",
       "18.48 kmpl      1\n",
       "16.09 kmpl      1\n",
       "11.8 kmpl       1\n",
       "18.76 kmpl      1\n",
       "Name: mileage, Length: 366, dtype: int64"
      ]
     },
     "execution_count": 13,
     "metadata": {},
     "output_type": "execute_result"
    }
   ],
   "source": [
    "carsdata['mileage'].value_counts()"
   ]
  },
  {
   "cell_type": "code",
   "execution_count": 14,
   "id": "327195eb",
   "metadata": {},
   "outputs": [
    {
     "data": {
      "text/plain": [
       "18.9     225\n",
       "19.7     173\n",
       "18.6     164\n",
       "21.1     157\n",
       "17.0     133\n",
       "        ... \n",
       "18.53      1\n",
       "15.63      1\n",
       "14.62      1\n",
       "11.8       1\n",
       "16.05      1\n",
       "Name: mileage, Length: 366, dtype: int64"
      ]
     },
     "execution_count": 14,
     "metadata": {},
     "output_type": "execute_result"
    }
   ],
   "source": [
    "carsdata[['mileage', 'kmpl']] = carsdata['mileage'].str.split(\" \", expand = True)\n",
    "carsdata['mileage'].value_counts()"
   ]
  },
  {
   "cell_type": "code",
   "execution_count": 15,
   "id": "c0aa327e",
   "metadata": {},
   "outputs": [
    {
     "data": {
      "text/plain": [
       "1248 CC    1017\n",
       "1197 CC     832\n",
       "796 CC      432\n",
       "998 CC      424\n",
       "2179 CC     389\n",
       "           ... \n",
       "2496 CC       1\n",
       "2776 CC       1\n",
       "2446 CC       1\n",
       "2197 CC       1\n",
       "1590 CC       1\n",
       "Name: engine, Length: 121, dtype: int64"
      ]
     },
     "execution_count": 15,
     "metadata": {},
     "output_type": "execute_result"
    }
   ],
   "source": [
    "carsdata['engine'].value_counts()"
   ]
  },
  {
   "cell_type": "code",
   "execution_count": 16,
   "id": "34c3c71a",
   "metadata": {},
   "outputs": [
    {
     "data": {
      "text/plain": [
       "1248    1017\n",
       "1197     832\n",
       "796      432\n",
       "998      424\n",
       "2179     389\n",
       "        ... \n",
       "2197       1\n",
       "2835       1\n",
       "3498       1\n",
       "2650       1\n",
       "1950       1\n",
       "Name: engine, Length: 121, dtype: int64"
      ]
     },
     "execution_count": 16,
     "metadata": {},
     "output_type": "execute_result"
    }
   ],
   "source": [
    "carsdata[['engine', 'CC']] = carsdata['engine'].str.split(\" \", expand = True)\n",
    "carsdata['engine'].value_counts()"
   ]
  },
  {
   "cell_type": "code",
   "execution_count": 17,
   "id": "06d3616e",
   "metadata": {},
   "outputs": [],
   "source": [
    "#We will use 'age', 'selling price', 'km_driven', 'fuel', 'transmission', 'owner', 'mileage', 'engine'"
   ]
  },
  {
   "cell_type": "code",
   "execution_count": 18,
   "id": "6500f41b",
   "metadata": {},
   "outputs": [],
   "source": [
    "cars = carsdata[['selling_price', 'age', 'km_driven', 'mileage', 'engine', 'fuel', 'transmission', 'owner']].copy()"
   ]
  },
  {
   "cell_type": "code",
   "execution_count": 19,
   "id": "b818b7b2",
   "metadata": {},
   "outputs": [
    {
     "data": {
      "text/plain": [
       "selling_price      0\n",
       "age                0\n",
       "km_driven          0\n",
       "mileage          214\n",
       "engine           214\n",
       "fuel               0\n",
       "transmission       0\n",
       "owner              0\n",
       "dtype: int64"
      ]
     },
     "execution_count": 19,
     "metadata": {},
     "output_type": "execute_result"
    }
   ],
   "source": [
    "cars.isnull().sum()"
   ]
  },
  {
   "cell_type": "code",
   "execution_count": 20,
   "id": "6a3c75d8",
   "metadata": {},
   "outputs": [
    {
     "name": "stdout",
     "output_type": "stream",
     "text": [
      "<class 'pandas.core.frame.DataFrame'>\n",
      "Int64Index: 7814 entries, 0 to 8127\n",
      "Data columns (total 8 columns):\n",
      " #   Column         Non-Null Count  Dtype  \n",
      "---  ------         --------------  -----  \n",
      " 0   selling_price  7814 non-null   float64\n",
      " 1   age            7814 non-null   int64  \n",
      " 2   km_driven      7814 non-null   int64  \n",
      " 3   mileage        7814 non-null   object \n",
      " 4   engine         7814 non-null   object \n",
      " 5   fuel           7814 non-null   object \n",
      " 6   transmission   7814 non-null   object \n",
      " 7   owner          7814 non-null   object \n",
      "dtypes: float64(1), int64(2), object(5)\n",
      "memory usage: 549.4+ KB\n"
     ]
    },
    {
     "data": {
      "text/plain": [
       "selling_price    0\n",
       "age              0\n",
       "km_driven        0\n",
       "mileage          0\n",
       "engine           0\n",
       "fuel             0\n",
       "transmission     0\n",
       "owner            0\n",
       "dtype: int64"
      ]
     },
     "execution_count": 20,
     "metadata": {},
     "output_type": "execute_result"
    }
   ],
   "source": [
    "cars =cars.dropna()\n",
    "cars.info()\n",
    "cars.isnull().sum()"
   ]
  },
  {
   "cell_type": "code",
   "execution_count": 21,
   "id": "74b65b6b",
   "metadata": {},
   "outputs": [
    {
     "name": "stdout",
     "output_type": "stream",
     "text": [
      "<class 'pandas.core.frame.DataFrame'>\n",
      "Int64Index: 7814 entries, 0 to 8127\n",
      "Data columns (total 8 columns):\n",
      " #   Column         Non-Null Count  Dtype  \n",
      "---  ------         --------------  -----  \n",
      " 0   selling_price  7814 non-null   float64\n",
      " 1   age            7814 non-null   int64  \n",
      " 2   km_driven      7814 non-null   int64  \n",
      " 3   mileage        7814 non-null   float64\n",
      " 4   engine         7814 non-null   int64  \n",
      " 5   fuel           7814 non-null   object \n",
      " 6   transmission   7814 non-null   object \n",
      " 7   owner          7814 non-null   object \n",
      "dtypes: float64(2), int64(3), object(3)\n",
      "memory usage: 549.4+ KB\n"
     ]
    }
   ],
   "source": [
    "cars['mileage']=pd.to_numeric(cars['mileage'])\n",
    "cars['engine']=pd.to_numeric(cars['engine'])\n",
    "cars.info()"
   ]
  },
  {
   "cell_type": "code",
   "execution_count": 22,
   "id": "234128c7",
   "metadata": {},
   "outputs": [
    {
     "data": {
      "text/html": [
       "<div>\n",
       "<style scoped>\n",
       "    .dataframe tbody tr th:only-of-type {\n",
       "        vertical-align: middle;\n",
       "    }\n",
       "\n",
       "    .dataframe tbody tr th {\n",
       "        vertical-align: top;\n",
       "    }\n",
       "\n",
       "    .dataframe thead th {\n",
       "        text-align: right;\n",
       "    }\n",
       "</style>\n",
       "<table border=\"1\" class=\"dataframe\">\n",
       "  <thead>\n",
       "    <tr style=\"text-align: right;\">\n",
       "      <th></th>\n",
       "      <th>selling_price</th>\n",
       "      <th>age</th>\n",
       "      <th>km_driven</th>\n",
       "      <th>mileage</th>\n",
       "      <th>engine</th>\n",
       "      <th>fuel</th>\n",
       "      <th>transmission</th>\n",
       "      <th>owner</th>\n",
       "    </tr>\n",
       "  </thead>\n",
       "  <tbody>\n",
       "    <tr>\n",
       "      <th>0</th>\n",
       "      <td>450.0</td>\n",
       "      <td>6</td>\n",
       "      <td>145500</td>\n",
       "      <td>23.40</td>\n",
       "      <td>1248</td>\n",
       "      <td>Diesel</td>\n",
       "      <td>Manual</td>\n",
       "      <td>First Owner</td>\n",
       "    </tr>\n",
       "    <tr>\n",
       "      <th>1</th>\n",
       "      <td>370.0</td>\n",
       "      <td>6</td>\n",
       "      <td>120000</td>\n",
       "      <td>21.14</td>\n",
       "      <td>1498</td>\n",
       "      <td>Diesel</td>\n",
       "      <td>Manual</td>\n",
       "      <td>Second Owner</td>\n",
       "    </tr>\n",
       "    <tr>\n",
       "      <th>2</th>\n",
       "      <td>158.0</td>\n",
       "      <td>14</td>\n",
       "      <td>140000</td>\n",
       "      <td>17.70</td>\n",
       "      <td>1497</td>\n",
       "      <td>Petrol</td>\n",
       "      <td>Manual</td>\n",
       "      <td>Third &amp; Above Owner</td>\n",
       "    </tr>\n",
       "    <tr>\n",
       "      <th>3</th>\n",
       "      <td>225.0</td>\n",
       "      <td>10</td>\n",
       "      <td>127000</td>\n",
       "      <td>23.00</td>\n",
       "      <td>1396</td>\n",
       "      <td>Diesel</td>\n",
       "      <td>Manual</td>\n",
       "      <td>First Owner</td>\n",
       "    </tr>\n",
       "    <tr>\n",
       "      <th>4</th>\n",
       "      <td>130.0</td>\n",
       "      <td>13</td>\n",
       "      <td>120000</td>\n",
       "      <td>16.10</td>\n",
       "      <td>1298</td>\n",
       "      <td>Petrol</td>\n",
       "      <td>Manual</td>\n",
       "      <td>First Owner</td>\n",
       "    </tr>\n",
       "    <tr>\n",
       "      <th>...</th>\n",
       "      <td>...</td>\n",
       "      <td>...</td>\n",
       "      <td>...</td>\n",
       "      <td>...</td>\n",
       "      <td>...</td>\n",
       "      <td>...</td>\n",
       "      <td>...</td>\n",
       "      <td>...</td>\n",
       "    </tr>\n",
       "    <tr>\n",
       "      <th>8123</th>\n",
       "      <td>320.0</td>\n",
       "      <td>7</td>\n",
       "      <td>110000</td>\n",
       "      <td>18.50</td>\n",
       "      <td>1197</td>\n",
       "      <td>Petrol</td>\n",
       "      <td>Manual</td>\n",
       "      <td>First Owner</td>\n",
       "    </tr>\n",
       "    <tr>\n",
       "      <th>8124</th>\n",
       "      <td>135.0</td>\n",
       "      <td>13</td>\n",
       "      <td>119000</td>\n",
       "      <td>16.80</td>\n",
       "      <td>1493</td>\n",
       "      <td>Diesel</td>\n",
       "      <td>Manual</td>\n",
       "      <td>Third &amp; Above Owner</td>\n",
       "    </tr>\n",
       "    <tr>\n",
       "      <th>8125</th>\n",
       "      <td>382.0</td>\n",
       "      <td>11</td>\n",
       "      <td>120000</td>\n",
       "      <td>19.30</td>\n",
       "      <td>1248</td>\n",
       "      <td>Diesel</td>\n",
       "      <td>Manual</td>\n",
       "      <td>First Owner</td>\n",
       "    </tr>\n",
       "    <tr>\n",
       "      <th>8126</th>\n",
       "      <td>290.0</td>\n",
       "      <td>7</td>\n",
       "      <td>25000</td>\n",
       "      <td>23.57</td>\n",
       "      <td>1396</td>\n",
       "      <td>Diesel</td>\n",
       "      <td>Manual</td>\n",
       "      <td>First Owner</td>\n",
       "    </tr>\n",
       "    <tr>\n",
       "      <th>8127</th>\n",
       "      <td>290.0</td>\n",
       "      <td>7</td>\n",
       "      <td>25000</td>\n",
       "      <td>23.57</td>\n",
       "      <td>1396</td>\n",
       "      <td>Diesel</td>\n",
       "      <td>Manual</td>\n",
       "      <td>First Owner</td>\n",
       "    </tr>\n",
       "  </tbody>\n",
       "</table>\n",
       "<p>7814 rows × 8 columns</p>\n",
       "</div>"
      ],
      "text/plain": [
       "      selling_price  age  km_driven  mileage  engine    fuel transmission  \\\n",
       "0             450.0    6     145500    23.40    1248  Diesel       Manual   \n",
       "1             370.0    6     120000    21.14    1498  Diesel       Manual   \n",
       "2             158.0   14     140000    17.70    1497  Petrol       Manual   \n",
       "3             225.0   10     127000    23.00    1396  Diesel       Manual   \n",
       "4             130.0   13     120000    16.10    1298  Petrol       Manual   \n",
       "...             ...  ...        ...      ...     ...     ...          ...   \n",
       "8123          320.0    7     110000    18.50    1197  Petrol       Manual   \n",
       "8124          135.0   13     119000    16.80    1493  Diesel       Manual   \n",
       "8125          382.0   11     120000    19.30    1248  Diesel       Manual   \n",
       "8126          290.0    7      25000    23.57    1396  Diesel       Manual   \n",
       "8127          290.0    7      25000    23.57    1396  Diesel       Manual   \n",
       "\n",
       "                    owner  \n",
       "0             First Owner  \n",
       "1            Second Owner  \n",
       "2     Third & Above Owner  \n",
       "3             First Owner  \n",
       "4             First Owner  \n",
       "...                   ...  \n",
       "8123          First Owner  \n",
       "8124  Third & Above Owner  \n",
       "8125          First Owner  \n",
       "8126          First Owner  \n",
       "8127          First Owner  \n",
       "\n",
       "[7814 rows x 8 columns]"
      ]
     },
     "execution_count": 22,
     "metadata": {},
     "output_type": "execute_result"
    }
   ],
   "source": [
    "cars"
   ]
  },
  {
   "cell_type": "markdown",
   "id": "0c629acd",
   "metadata": {},
   "source": [
    "# Check normality and influential points"
   ]
  },
  {
   "cell_type": "code",
   "execution_count": 23,
   "id": "d6cd5b29",
   "metadata": {},
   "outputs": [
    {
     "data": {
      "text/html": [
       "<table class=\"simpletable\">\n",
       "<caption>OLS Regression Results</caption>\n",
       "<tr>\n",
       "  <th>Dep. Variable:</th>      <td>selling_price</td>  <th>  R-squared:         </th> <td>   0.540</td> \n",
       "</tr>\n",
       "<tr>\n",
       "  <th>Model:</th>                   <td>OLS</td>       <th>  Adj. R-squared:    </th> <td>   0.540</td> \n",
       "</tr>\n",
       "<tr>\n",
       "  <th>Method:</th>             <td>Least Squares</td>  <th>  F-statistic:       </th> <td>   1146.</td> \n",
       "</tr>\n",
       "<tr>\n",
       "  <th>Date:</th>             <td>Thu, 07 Oct 2021</td> <th>  Prob (F-statistic):</th>  <td>  0.00</td>  \n",
       "</tr>\n",
       "<tr>\n",
       "  <th>Time:</th>                 <td>23:02:07</td>     <th>  Log-Likelihood:    </th> <td> -60381.</td> \n",
       "</tr>\n",
       "<tr>\n",
       "  <th>No. Observations:</th>      <td>  7814</td>      <th>  AIC:               </th> <td>1.208e+05</td>\n",
       "</tr>\n",
       "<tr>\n",
       "  <th>Df Residuals:</th>          <td>  7805</td>      <th>  BIC:               </th> <td>1.208e+05</td>\n",
       "</tr>\n",
       "<tr>\n",
       "  <th>Df Model:</th>              <td>     8</td>      <th>                     </th>     <td> </td>    \n",
       "</tr>\n",
       "<tr>\n",
       "  <th>Covariance Type:</th>      <td>nonrobust</td>    <th>                     </th>     <td> </td>    \n",
       "</tr>\n",
       "</table>\n",
       "<table class=\"simpletable\">\n",
       "<tr>\n",
       "                 <td></td>                    <th>coef</th>     <th>std err</th>      <th>t</th>      <th>P>|t|</th>  <th>[0.025</th>    <th>0.975]</th>  \n",
       "</tr>\n",
       "<tr>\n",
       "  <th>Intercept</th>                       <td>  809.2082</td> <td>   88.956</td> <td>    9.097</td> <td> 0.000</td> <td>  634.831</td> <td>  983.585</td>\n",
       "</tr>\n",
       "<tr>\n",
       "  <th>C(fuel)[T.Petrol]</th>               <td>  -82.8002</td> <td>   17.850</td> <td>   -4.639</td> <td> 0.000</td> <td> -117.790</td> <td>  -47.810</td>\n",
       "</tr>\n",
       "<tr>\n",
       "  <th>C(transmission)[T.Manual]</th>       <td> -988.9110</td> <td>   20.473</td> <td>  -48.303</td> <td> 0.000</td> <td>-1029.043</td> <td> -948.779</td>\n",
       "</tr>\n",
       "<tr>\n",
       "  <th>C(owner)[T.Second Owner]</th>        <td>  -75.3567</td> <td>   16.020</td> <td>   -4.704</td> <td> 0.000</td> <td> -106.761</td> <td>  -43.953</td>\n",
       "</tr>\n",
       "<tr>\n",
       "  <th>C(owner)[T.Third & Above Owner]</th> <td>  -18.0610</td> <td>   25.183</td> <td>   -0.717</td> <td> 0.473</td> <td>  -67.427</td> <td>   31.304</td>\n",
       "</tr>\n",
       "<tr>\n",
       "  <th>age</th>                             <td>  -44.9575</td> <td>    2.210</td> <td>  -20.340</td> <td> 0.000</td> <td>  -49.290</td> <td>  -40.625</td>\n",
       "</tr>\n",
       "<tr>\n",
       "  <th>km_driven</th>                       <td>   -0.0017</td> <td>    0.000</td> <td>  -12.870</td> <td> 0.000</td> <td>   -0.002</td> <td>   -0.001</td>\n",
       "</tr>\n",
       "<tr>\n",
       "  <th>mileage</th>                         <td>   13.5979</td> <td>    2.505</td> <td>    5.429</td> <td> 0.000</td> <td>    8.688</td> <td>   18.508</td>\n",
       "</tr>\n",
       "<tr>\n",
       "  <th>engine</th>                          <td>    0.6019</td> <td>    0.022</td> <td>   26.933</td> <td> 0.000</td> <td>    0.558</td> <td>    0.646</td>\n",
       "</tr>\n",
       "</table>\n",
       "<table class=\"simpletable\">\n",
       "<tr>\n",
       "  <th>Omnibus:</th>       <td>5485.721</td> <th>  Durbin-Watson:     </th>  <td>   1.576</td> \n",
       "</tr>\n",
       "<tr>\n",
       "  <th>Prob(Omnibus):</th>  <td> 0.000</td>  <th>  Jarque-Bera (JB):  </th> <td>143728.427</td>\n",
       "</tr>\n",
       "<tr>\n",
       "  <th>Skew:</th>           <td> 3.035</td>  <th>  Prob(JB):          </th>  <td>    0.00</td> \n",
       "</tr>\n",
       "<tr>\n",
       "  <th>Kurtosis:</th>       <td>23.115</td>  <th>  Cond. No.          </th>  <td>1.30e+06</td> \n",
       "</tr>\n",
       "</table><br/><br/>Notes:<br/>[1] Standard Errors assume that the covariance matrix of the errors is correctly specified.<br/>[2] The condition number is large, 1.3e+06. This might indicate that there are<br/>strong multicollinearity or other numerical problems."
      ],
      "text/plain": [
       "<class 'statsmodels.iolib.summary.Summary'>\n",
       "\"\"\"\n",
       "                            OLS Regression Results                            \n",
       "==============================================================================\n",
       "Dep. Variable:          selling_price   R-squared:                       0.540\n",
       "Model:                            OLS   Adj. R-squared:                  0.540\n",
       "Method:                 Least Squares   F-statistic:                     1146.\n",
       "Date:                Thu, 07 Oct 2021   Prob (F-statistic):               0.00\n",
       "Time:                        23:02:07   Log-Likelihood:                -60381.\n",
       "No. Observations:                7814   AIC:                         1.208e+05\n",
       "Df Residuals:                    7805   BIC:                         1.208e+05\n",
       "Df Model:                           8                                         \n",
       "Covariance Type:            nonrobust                                         \n",
       "===================================================================================================\n",
       "                                      coef    std err          t      P>|t|      [0.025      0.975]\n",
       "---------------------------------------------------------------------------------------------------\n",
       "Intercept                         809.2082     88.956      9.097      0.000     634.831     983.585\n",
       "C(fuel)[T.Petrol]                 -82.8002     17.850     -4.639      0.000    -117.790     -47.810\n",
       "C(transmission)[T.Manual]        -988.9110     20.473    -48.303      0.000   -1029.043    -948.779\n",
       "C(owner)[T.Second Owner]          -75.3567     16.020     -4.704      0.000    -106.761     -43.953\n",
       "C(owner)[T.Third & Above Owner]   -18.0610     25.183     -0.717      0.473     -67.427      31.304\n",
       "age                               -44.9575      2.210    -20.340      0.000     -49.290     -40.625\n",
       "km_driven                          -0.0017      0.000    -12.870      0.000      -0.002      -0.001\n",
       "mileage                            13.5979      2.505      5.429      0.000       8.688      18.508\n",
       "engine                              0.6019      0.022     26.933      0.000       0.558       0.646\n",
       "==============================================================================\n",
       "Omnibus:                     5485.721   Durbin-Watson:                   1.576\n",
       "Prob(Omnibus):                  0.000   Jarque-Bera (JB):           143728.427\n",
       "Skew:                           3.035   Prob(JB):                         0.00\n",
       "Kurtosis:                      23.115   Cond. No.                     1.30e+06\n",
       "==============================================================================\n",
       "\n",
       "Notes:\n",
       "[1] Standard Errors assume that the covariance matrix of the errors is correctly specified.\n",
       "[2] The condition number is large, 1.3e+06. This might indicate that there are\n",
       "strong multicollinearity or other numerical problems.\n",
       "\"\"\""
      ]
     },
     "execution_count": 23,
     "metadata": {},
     "output_type": "execute_result"
    }
   ],
   "source": [
    "model =smf.ols('selling_price ~ age + km_driven + mileage + engine + C(fuel) + C(transmission) + C(owner)',data=cars).fit()\n",
    "model.summary()"
   ]
  },
  {
   "cell_type": "code",
   "execution_count": 24,
   "id": "b78f0bf5",
   "metadata": {},
   "outputs": [
    {
     "data": {
      "text/plain": [
       "Text(0.5, 1.0, 'Fitted Values vs. Residuals')"
      ]
     },
     "execution_count": 24,
     "metadata": {},
     "output_type": "execute_result"
    },
    {
     "data": {
      "image/png": "[encoded data removed]",
      "text/plain": [
       "<Figure size 432x288 with 1 Axes>"
      ]
     },
     "metadata": {
      "needs_background": "light"
     },
     "output_type": "display_data"
    }
   ],
   "source": [
    "#Fitted Values vs. Residuals Plot\n",
    "fitted = model.fittedvalues\n",
    "res = model.resid\n",
    "plt.scatter(fitted,res)\n",
    "plt.xlabel(\"Fitted Values\")\n",
    "plt.ylabel(\"Residual\")\n",
    "plt.title(\"Fitted Values vs. Residuals\")"
   ]
  },
  {
   "cell_type": "code",
   "execution_count": 36,
   "id": "53fb487b",
   "metadata": {},
   "outputs": [
    {
     "data": {
      "text/plain": [
       "(array([5.090e+02, 5.901e+03, 1.185e+03, 9.800e+01, 4.100e+01, 7.700e+01,\n",
       "        2.000e+00, 0.000e+00, 0.000e+00, 1.000e+00]),\n",
       " array([-1697.65942535,  -757.64571343,   182.3679985 ,  1122.38171042,\n",
       "         2062.39542234,  3002.40913427,  3942.42284619,  4882.43655812,\n",
       "         5822.45027004,  6762.46398197,  7702.47769389]),\n",
       " <BarContainer object of 10 artists>)"
      ]
     },
     "execution_count": 36,
     "metadata": {},
     "output_type": "execute_result"
    },
    {
     "data": {
      "image/png": "[encoded data removed]",
      "text/plain": [
       "<Figure size 432x288 with 1 Axes>"
      ]
     },
     "metadata": {
      "needs_background": "light"
     },
     "output_type": "display_data"
    }
   ],
   "source": [
    "plt.hist(model.resid)"
   ]
  },
  {
   "cell_type": "code",
   "execution_count": 37,
   "id": "71cec0e4",
   "metadata": {},
   "outputs": [
    {
     "data": {
      "image/png": "[encoded data removed]",
      "text/plain": [
       "<Figure size 432x288 with 1 Axes>"
      ]
     },
     "execution_count": 37,
     "metadata": {},
     "output_type": "execute_result"
    },
    {
     "data": {
      "image/png": "[encoded data removed]",
      "text/plain": [
       "<Figure size 432x288 with 1 Axes>"
      ]
     },
     "metadata": {
      "needs_background": "light"
     },
     "output_type": "display_data"
    }
   ],
   "source": [
    "#QQ plot\n",
    "sm.qqplot(model.resid)"
   ]
  },
  {
   "cell_type": "code",
   "execution_count": 52,
   "id": "1aeb097c",
   "metadata": {},
   "outputs": [],
   "source": [
    "#change Y to lnY"
   ]
  },
  {
   "cell_type": "code",
   "execution_count": 53,
   "id": "e13e7a8b",
   "metadata": {},
   "outputs": [],
   "source": [
    "model_1 = smf.ols('np.log(selling_price) ~ age + km_driven + mileage + engine + C(fuel) + C(transmission) + C(owner)', data=cars).fit()"
   ]
  },
  {
   "cell_type": "code",
   "execution_count": 54,
   "id": "c84288eb",
   "metadata": {},
   "outputs": [
    {
     "data": {
      "text/plain": [
       "Text(0.5, 1.0, 'Fitted Values vs. Residuals')"
      ]
     },
     "execution_count": 54,
     "metadata": {},
     "output_type": "execute_result"
    },
    {
     "data": {
      "image/png": "[encoded data removed]",
      "text/plain": [
       "<Figure size 432x288 with 1 Axes>"
      ]
     },
     "metadata": {
      "needs_background": "light"
     },
     "output_type": "display_data"
    }
   ],
   "source": [
    "fitted = model_1.fittedvalues\n",
    "res = model_1.resid\n",
    "plt.scatter(fitted,res)\n",
    "plt.xlabel(\"Fitted Values\")\n",
    "plt.ylabel(\"Residual\")\n",
    "plt.title(\"Fitted Values vs. Residuals\")"
   ]
  },
  {
   "cell_type": "code",
   "execution_count": 40,
   "id": "760c3de9",
   "metadata": {},
   "outputs": [
    {
     "data": {
      "image/png": "[encoded data removed]",
      "text/plain": [
       "<Figure size 864x864 with 1 Axes>"
      ]
     },
     "metadata": {
      "needs_background": "light"
     },
     "output_type": "display_data"
    }
   ],
   "source": [
    "#graphical representation of the influences()\n",
    "fig, ax = plt.subplots(figsize=(12,12))\n",
    "fig=sm.graphics.influence_plot(model_1,ax=ax, criterion=\"cooks\") \n",
    "#size of points are given by cook's dist value\n",
    "#the points with big size and out of the (-3,3) should raise a flag"
   ]
  },
  {
   "cell_type": "code",
   "execution_count": 41,
   "id": "675962e3",
   "metadata": {},
   "outputs": [
    {
     "name": "stdout",
     "output_type": "stream",
     "text": [
      "374 Int64Index([  18,   38,   82,  108,  131,  135,  139,  170,  186,  254,\n",
      "            ...\n",
      "            7833, 7872, 7873, 7887, 7930, 8017, 8020, 8030, 8042, 8089],\n",
      "           dtype='int64', length=374) [ 2.93741578 -2.83129526  2.10168264  2.50637606  2.0255712   2.04458439\n",
      "  2.62736055  4.80417264  2.25490361 -2.08462543 -2.79915909  2.02651516\n",
      " -2.8800244   2.43287365  2.4847103  -2.84906796  2.43287365  2.4847103\n",
      " -2.27969941 -2.27969941 -2.79485187 -2.17561302 -2.74823906  2.69258137\n",
      " -2.47401573 -2.1192423  -2.19494412 -2.19494412  2.43287365  2.4847103\n",
      " -2.21154105 -2.13002666 -2.98374249 -2.19217755 -2.04169475 -3.24056362\n",
      " -2.01094263 -2.01516206 -2.01265094 -2.35387737 -2.06242148  2.01531994\n",
      " -3.95315028  2.03336022 -2.00378364 -2.4434489  -2.10606011 -2.15560769\n",
      " -3.34024675 -1.96257917 -2.03233362  3.01127566  2.43287365  2.4847103\n",
      "  2.43287365  2.4847103   2.43287365  2.4847103   2.43287365  2.4847103\n",
      " -2.95039812 -2.01207935 -2.58400922 -3.33039097 -2.282905   -2.45754957\n",
      "  2.06428335  2.2497494   2.14495501 -2.10558346 -2.09484933 -2.71253285\n",
      "  2.0255712   2.13384397 -2.88126697 -2.34910233 -2.73932757  2.457029\n",
      " -2.00385821  2.43287365  2.4847103  -2.03783383  2.50200846 -2.88844784\n",
      "  2.0255712   2.43287365  2.4847103   2.48257052 -2.21930881 -2.47492195\n",
      " -2.32908493 -2.73338175 -1.97313366  2.04958966  1.97521835  2.45893243\n",
      "  2.01180446 -2.09263618  2.39605871 -2.62866425 -2.91551325 -2.77496853\n",
      " -2.354092   -2.74050851 -2.16083361 -2.68114071 -2.98309482 -2.11649074\n",
      " -2.12340498  2.36807477 -3.71156115 -2.03838467  2.43796954 -2.43918697\n",
      "  2.15136487 -2.93733157 -2.15350066 -3.19598558 -2.58760752 -1.97305068\n",
      " -2.04756888  2.43287365  2.4847103   2.43287365  2.4847103  -2.15426761\n",
      " -2.49056748 -2.61127552  2.13768308 -2.2070869  -2.10108193 -1.98681333\n",
      " -2.49883871 -3.34310894 -1.96633283 -2.0211653  -2.51213158 -2.24823895\n",
      " -2.43502218 -2.01094263 -2.53642533  2.43287365  2.4847103  -2.08630362\n",
      " -3.01019278 -2.3294665  -3.50218165 -2.09265722  2.0255712   2.04458439\n",
      " -2.26642452 -2.26980818  2.43287365  2.4847103  -2.26412223 -2.01618363\n",
      " -2.09941351 10.01585801  2.43287365  2.4847103  -2.38421831 -3.10897836\n",
      " -1.99829776 -2.37847676 -2.06277513 -2.49056748 -4.04455122  2.43287365\n",
      "  2.4847103  -2.12055873 -2.97109842  2.37552604 -2.77623133 -2.00385821\n",
      "  4.19547485 -2.28902314 -2.17269049  2.20366678 -2.4346059  -2.00384506\n",
      " -2.08464339 -2.43596247 -2.21404571 -3.32170419 -2.86210585  2.43287365\n",
      "  2.4847103   2.43287365  2.4847103   2.43287365  2.4847103   2.32072826\n",
      "  3.5654611   2.43287365  2.4847103  -2.05687635  2.04958966  1.97521835\n",
      " -2.93740208 -2.56171413  2.16539673  2.43287365  2.4847103  -2.811013\n",
      "  2.457029   -3.16155413 -2.83067943  2.38516532 -3.1765349  -2.18183861\n",
      "  2.3970111   2.30462802 -2.79485187 -2.20459267 -2.10932099  2.43287365\n",
      "  2.4847103  -3.34764667 -2.4099574  -2.30343641 -2.7736724   2.19919974\n",
      " -2.00605436 -2.28444423 -2.24100575  2.24943098 -2.06609284 -1.99666189\n",
      " -2.00341278  2.36918802  2.43287365  2.4847103   2.10168264 -2.13988123\n",
      " -4.14125135  2.04349826 -3.40912396 -3.00418999 -2.29211727  2.0255712\n",
      "  2.43287365  2.4847103   2.85782562  2.04458439 -2.15094378 -2.32640259\n",
      " -2.09666672 -2.09651372  3.46461006 -2.1652734   2.19310273 -2.70743769\n",
      " -2.11764386 -2.3252135  -3.15736824 -2.31046779  2.43287365  2.4847103\n",
      " -2.26412223 -2.01094263 -2.79966847 -3.69646242  2.25579148 -2.41450071\n",
      " -3.20620222 -2.01970029 -3.47116757 -2.27366929 -3.32682046 -2.64207477\n",
      " -2.72882465 -3.50218165 -2.09265722 -2.28858523  2.0653293  -2.25666523\n",
      " -2.61675342  2.43287365  2.4847103  -3.10257571  2.90764021 -3.46102228\n",
      " -2.21517023 -1.97823767  2.18919927 -2.44030682 -2.68854242 -2.07797271\n",
      " -2.13715395 -2.17524716  2.43287365  2.4847103   2.43287365  2.4847103\n",
      " -4.18036105 -2.17811501 -1.99552349  1.97236559 -2.41349764 -3.6758058\n",
      " -2.16284381  2.43287365  2.4847103  -2.51544867 -2.02053023 -2.05117692\n",
      " -2.86684255 -2.14317316 -1.96980382 -2.91857781 -2.22206947 -2.14828102\n",
      "  2.18454459 -2.28546249 -3.02565372  2.43287365  2.4847103  -2.04756888\n",
      " -2.66970246 -2.6034724  -2.30142624 -2.6384656  -2.80598237 -2.05323665\n",
      " -2.26570077 -2.37423806 -2.74186568 -2.59407188 -2.08551847 -2.19893827\n",
      " -2.75376994  2.17543445 -2.70298666 -2.82490471 -2.32379314  2.33282548\n",
      "  2.02276291  2.65302381 -2.14938669 -3.93028915 -2.69573362  2.05734469\n",
      " -1.97148174 -2.28036743 -2.09666672 -2.09651372  2.04792798  3.07482514\n",
      " -2.43058342  2.11388795 -2.83129526 -2.00341278 -2.3376385  -3.52733157\n",
      " -2.19752732 -3.19470604  2.0255712   2.85782562  2.04458439 -2.43046549\n",
      " -3.02134349 -3.9326579   2.30462802 -2.09771833 -3.58264764  2.43287365\n",
      "  2.4847103  -3.19689353  2.52246635 -2.98297507 -2.41531249 -3.69633859\n",
      "  5.87173465 -3.20765514]\n"
     ]
    }
   ],
   "source": [
    "#threshold externally studentized residuals\n",
    "import scipy\n",
    "n=7814\n",
    "p=8\n",
    "inf = model_1.get_influence()\n",
    "seuil_stud = scipy.stats.t.ppf(0.975,df=n-p-1)\n",
    "#detection - absolute value > threshold\n",
    "reg_studs=inf.resid_studentized_external\n",
    "atyp_stud = np.abs(reg_studs) > seuil_stud\n",
    "\n",
    "\n",
    "print(len(reg_studs[atyp_stud]), cars.index[atyp_stud], reg_studs[atyp_stud])"
   ]
  },
  {
   "cell_type": "code",
   "execution_count": 42,
   "id": "b11fd71a",
   "metadata": {},
   "outputs": [
    {
     "name": "stdout",
     "output_type": "stream",
     "text": [
      "537 Int64Index([  18,   57,   82,  105,  108,  131,  132,  135,  136,  139,\n",
      "            ...\n",
      "            7952, 7967, 7976, 8017, 8020, 8030, 8042, 8057, 8081, 8089],\n",
      "           dtype='int64', length=537) 18      0.002036\n",
      "57      0.000562\n",
      "82      0.000956\n",
      "105     0.000603\n",
      "108     0.000726\n",
      "          ...   \n",
      "8030    0.006303\n",
      "8042    0.013048\n",
      "8057    0.000527\n",
      "8081    0.000707\n",
      "8089    0.001603\n",
      "Name: cooks_d, Length: 537, dtype: float64\n"
     ]
    }
   ],
   "source": [
    "#Cook's distance\n",
    "inflsum=inf.summary_frame()\n",
    "reg_cook=inflsum.cooks_d\n",
    "\n",
    "atyp_cook = np.abs(reg_cook) >= 4/n\n",
    "print(len(reg_cook[atyp_cook]), cars.index[atyp_cook],reg_cook[atyp_cook])"
   ]
  },
  {
   "cell_type": "code",
   "execution_count": 55,
   "id": "1b3b89aa",
   "metadata": {},
   "outputs": [
    {
     "name": "stdout",
     "output_type": "stream",
     "text": [
      "322\n"
     ]
    }
   ],
   "source": [
    "#find the points shown in both list\n",
    "intersection_set = set.intersection(set(cars.index[atyp_stud]), set(cars.index[atyp_cook]))\n",
    "intersection_list = list(intersection_set)\n",
    "print(len(intersection_list))"
   ]
  },
  {
   "cell_type": "code",
   "execution_count": 56,
   "id": "9a1edbbf",
   "metadata": {},
   "outputs": [],
   "source": [
    "#drop those points\n",
    "carsnew=cars.copy().drop(labels=intersection_list,axis=0)"
   ]
  },
  {
   "cell_type": "code",
   "execution_count": 57,
   "id": "2e81c52f",
   "metadata": {},
   "outputs": [
    {
     "data": {
      "text/html": [
       "<table class=\"simpletable\">\n",
       "<caption>OLS Regression Results</caption>\n",
       "<tr>\n",
       "  <th>Dep. Variable:</th>    <td>np.log(selling_price)</td> <th>  R-squared:         </th> <td>   0.832</td>\n",
       "</tr>\n",
       "<tr>\n",
       "  <th>Model:</th>                     <td>OLS</td>          <th>  Adj. R-squared:    </th> <td>   0.832</td>\n",
       "</tr>\n",
       "<tr>\n",
       "  <th>Method:</th>               <td>Least Squares</td>     <th>  F-statistic:       </th> <td>   4630.</td>\n",
       "</tr>\n",
       "<tr>\n",
       "  <th>Date:</th>               <td>Thu, 07 Oct 2021</td>    <th>  Prob (F-statistic):</th>  <td>  0.00</td> \n",
       "</tr>\n",
       "<tr>\n",
       "  <th>Time:</th>                   <td>23:19:44</td>        <th>  Log-Likelihood:    </th> <td> -1997.8</td>\n",
       "</tr>\n",
       "<tr>\n",
       "  <th>No. Observations:</th>        <td>  7492</td>         <th>  AIC:               </th> <td>   4014.</td>\n",
       "</tr>\n",
       "<tr>\n",
       "  <th>Df Residuals:</th>            <td>  7483</td>         <th>  BIC:               </th> <td>   4076.</td>\n",
       "</tr>\n",
       "<tr>\n",
       "  <th>Df Model:</th>                <td>     8</td>         <th>                     </th>     <td> </td>   \n",
       "</tr>\n",
       "<tr>\n",
       "  <th>Covariance Type:</th>        <td>nonrobust</td>       <th>                     </th>     <td> </td>   \n",
       "</tr>\n",
       "</table>\n",
       "<table class=\"simpletable\">\n",
       "<tr>\n",
       "                 <td></td>                    <th>coef</th>     <th>std err</th>      <th>t</th>      <th>P>|t|</th>  <th>[0.025</th>    <th>0.975]</th>  \n",
       "</tr>\n",
       "<tr>\n",
       "  <th>Intercept</th>                       <td>    6.0232</td> <td>    0.054</td> <td>  111.743</td> <td> 0.000</td> <td>    5.917</td> <td>    6.129</td>\n",
       "</tr>\n",
       "<tr>\n",
       "  <th>C(fuel)[T.Petrol]</th>               <td>   -0.1482</td> <td>    0.011</td> <td>  -13.775</td> <td> 0.000</td> <td>   -0.169</td> <td>   -0.127</td>\n",
       "</tr>\n",
       "<tr>\n",
       "  <th>C(transmission)[T.Manual]</th>       <td>   -0.4606</td> <td>    0.012</td> <td>  -36.989</td> <td> 0.000</td> <td>   -0.485</td> <td>   -0.436</td>\n",
       "</tr>\n",
       "<tr>\n",
       "  <th>C(owner)[T.Second Owner]</th>        <td>   -0.0796</td> <td>    0.009</td> <td>   -8.436</td> <td> 0.000</td> <td>   -0.098</td> <td>   -0.061</td>\n",
       "</tr>\n",
       "<tr>\n",
       "  <th>C(owner)[T.Third & Above Owner]</th> <td>   -0.0870</td> <td>    0.015</td> <td>   -5.813</td> <td> 0.000</td> <td>   -0.116</td> <td>   -0.058</td>\n",
       "</tr>\n",
       "<tr>\n",
       "  <th>age</th>                             <td>   -0.1188</td> <td>    0.001</td> <td>  -86.628</td> <td> 0.000</td> <td>   -0.122</td> <td>   -0.116</td>\n",
       "</tr>\n",
       "<tr>\n",
       "  <th>km_driven</th>                       <td>-1.126e-06</td> <td>    1e-07</td> <td>  -11.212</td> <td> 0.000</td> <td>-1.32e-06</td> <td>-9.29e-07</td>\n",
       "</tr>\n",
       "<tr>\n",
       "  <th>mileage</th>                         <td>    0.0125</td> <td>    0.001</td> <td>    8.318</td> <td> 0.000</td> <td>    0.010</td> <td>    0.015</td>\n",
       "</tr>\n",
       "<tr>\n",
       "  <th>engine</th>                          <td>    0.0008</td> <td> 1.35e-05</td> <td>   57.020</td> <td> 0.000</td> <td>    0.001</td> <td>    0.001</td>\n",
       "</tr>\n",
       "</table>\n",
       "<table class=\"simpletable\">\n",
       "<tr>\n",
       "  <th>Omnibus:</th>       <td>98.072</td> <th>  Durbin-Watson:     </th> <td>   1.830</td>\n",
       "</tr>\n",
       "<tr>\n",
       "  <th>Prob(Omnibus):</th> <td> 0.000</td> <th>  Jarque-Bera (JB):  </th> <td>  77.282</td>\n",
       "</tr>\n",
       "<tr>\n",
       "  <th>Skew:</th>          <td>-0.169</td> <th>  Prob(JB):          </th> <td>1.65e-17</td>\n",
       "</tr>\n",
       "<tr>\n",
       "  <th>Kurtosis:</th>      <td> 2.634</td> <th>  Cond. No.          </th> <td>1.24e+06</td>\n",
       "</tr>\n",
       "</table><br/><br/>Notes:<br/>[1] Standard Errors assume that the covariance matrix of the errors is correctly specified.<br/>[2] The condition number is large, 1.24e+06. This might indicate that there are<br/>strong multicollinearity or other numerical problems."
      ],
      "text/plain": [
       "<class 'statsmodels.iolib.summary.Summary'>\n",
       "\"\"\"\n",
       "                              OLS Regression Results                             \n",
       "=================================================================================\n",
       "Dep. Variable:     np.log(selling_price)   R-squared:                       0.832\n",
       "Model:                               OLS   Adj. R-squared:                  0.832\n",
       "Method:                    Least Squares   F-statistic:                     4630.\n",
       "Date:                   Thu, 07 Oct 2021   Prob (F-statistic):               0.00\n",
       "Time:                           23:19:44   Log-Likelihood:                -1997.8\n",
       "No. Observations:                   7492   AIC:                             4014.\n",
       "Df Residuals:                       7483   BIC:                             4076.\n",
       "Df Model:                              8                                         \n",
       "Covariance Type:               nonrobust                                         \n",
       "===================================================================================================\n",
       "                                      coef    std err          t      P>|t|      [0.025      0.975]\n",
       "---------------------------------------------------------------------------------------------------\n",
       "Intercept                           6.0232      0.054    111.743      0.000       5.917       6.129\n",
       "C(fuel)[T.Petrol]                  -0.1482      0.011    -13.775      0.000      -0.169      -0.127\n",
       "C(transmission)[T.Manual]          -0.4606      0.012    -36.989      0.000      -0.485      -0.436\n",
       "C(owner)[T.Second Owner]           -0.0796      0.009     -8.436      0.000      -0.098      -0.061\n",
       "C(owner)[T.Third & Above Owner]    -0.0870      0.015     -5.813      0.000      -0.116      -0.058\n",
       "age                                -0.1188      0.001    -86.628      0.000      -0.122      -0.116\n",
       "km_driven                       -1.126e-06      1e-07    -11.212      0.000   -1.32e-06   -9.29e-07\n",
       "mileage                             0.0125      0.001      8.318      0.000       0.010       0.015\n",
       "engine                              0.0008   1.35e-05     57.020      0.000       0.001       0.001\n",
       "==============================================================================\n",
       "Omnibus:                       98.072   Durbin-Watson:                   1.830\n",
       "Prob(Omnibus):                  0.000   Jarque-Bera (JB):               77.282\n",
       "Skew:                          -0.169   Prob(JB):                     1.65e-17\n",
       "Kurtosis:                       2.634   Cond. No.                     1.24e+06\n",
       "==============================================================================\n",
       "\n",
       "Notes:\n",
       "[1] Standard Errors assume that the covariance matrix of the errors is correctly specified.\n",
       "[2] The condition number is large, 1.24e+06. This might indicate that there are\n",
       "strong multicollinearity or other numerical problems.\n",
       "\"\"\""
      ]
     },
     "execution_count": 57,
     "metadata": {},
     "output_type": "execute_result"
    }
   ],
   "source": [
    "#use the new dataset to do regression, still change Y to lnY\n",
    "model_2 =smf.ols('np.log(selling_price) ~ age + km_driven + mileage + engine + C(fuel) + C(transmission) + C(owner)',data=carsnew).fit()\n",
    "model_2.summary()"
   ]
  },
  {
   "cell_type": "code",
   "execution_count": 59,
   "id": "bef4b9d7",
   "metadata": {},
   "outputs": [
    {
     "data": {
      "text/plain": [
       "Text(0.5, 1.0, 'Fitted Values vs. Residuals')"
      ]
     },
     "execution_count": 59,
     "metadata": {},
     "output_type": "execute_result"
    },
    {
     "data": {
      "image/png": "[encoded data removed]",
      "text/plain": [
       "<Figure size 432x288 with 1 Axes>"
      ]
     },
     "metadata": {
      "needs_background": "light"
     },
     "output_type": "display_data"
    }
   ],
   "source": [
    "fitted = model_2.fittedvalues\n",
    "res = model_2.resid\n",
    "plt.scatter(fitted,res)\n",
    "plt.xlabel(\"Fitted Values\")\n",
    "plt.ylabel(\"Residual\")\n",
    "plt.title(\"Fitted Values vs. Residuals\")     #looks good so far"
   ]
  },
  {
   "cell_type": "code",
   "execution_count": 60,
   "id": "e45a0f7e",
   "metadata": {},
   "outputs": [
    {
     "data": {
      "text/plain": [
       "(array([   8.,  110.,  430.,  860., 1286., 1736., 1617.,  966.,  395.,\n",
       "          84.]),\n",
       " array([-1.05997289, -0.86827603, -0.67657917, -0.4848823 , -0.29318544,\n",
       "        -0.10148858,  0.09020828,  0.28190515,  0.47360201,  0.66529887,\n",
       "         0.85699574]),\n",
       " <BarContainer object of 10 artists>)"
      ]
     },
     "execution_count": 60,
     "metadata": {},
     "output_type": "execute_result"
    },
    {
     "data": {
      "image/png": "[encoded data removed]",
      "text/plain": [
       "<Figure size 432x288 with 1 Axes>"
      ]
     },
     "metadata": {
      "needs_background": "light"
     },
     "output_type": "display_data"
    }
   ],
   "source": [
    "plt.hist(model_2.resid)"
   ]
  },
  {
   "cell_type": "code",
   "execution_count": 61,
   "id": "17324196",
   "metadata": {},
   "outputs": [
    {
     "data": {
      "image/png": "[encoded data removed]",
      "text/plain": [
       "<Figure size 432x288 with 1 Axes>"
      ]
     },
     "execution_count": 61,
     "metadata": {},
     "output_type": "execute_result"
    },
    {
     "data": {
      "image/png": "[encoded data removed]",
      "text/plain": [
       "<Figure size 432x288 with 1 Axes>"
      ]
     },
     "metadata": {
      "needs_background": "light"
     },
     "output_type": "display_data"
    }
   ],
   "source": [
    "sm.qqplot(model_2.resid)"
   ]
  },
  {
   "cell_type": "markdown",
   "id": "ed03c6ee",
   "metadata": {},
   "source": [
    "#### until now, dataset is 'carsnew', model is 'np.log(selling_price) ~ age + km_driven + mileage + engine + C(fuel) + C(transmission) + C(owner)'"
   ]
  },
  {
   "cell_type": "code",
   "execution_count": null,
   "id": "ccf9a89e",
   "metadata": {},
   "outputs": [],
   "source": []
  },
  {
   "cell_type": "code",
   "execution_count": null,
   "id": "a064bccd",
   "metadata": {},
   "outputs": [],
   "source": []
  }
 ],
 "metadata": {
  "kernelspec": {
   "display_name": "Python 3",
   "language": "python",
   "name": "python3"
  },
  "language_info": {
   "codemirror_mode": {
    "name": "ipython",
    "version": 3
   },
   "file_extension": ".py",
   "mimetype": "text/x-python",
   "name": "python",
   "nbconvert_exporter": "python",
   "pygments_lexer": "ipython3",
   "version": "3.8.8"
  }
 },
 "nbformat": 4,
 "nbformat_minor": 5
}
